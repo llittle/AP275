{
 "cells": [
  {
   "cell_type": "markdown",
   "metadata": {},
   "source": [
    "# Course project: cleavage plane for Ca doped YBCO"
   ]
  },
  {
   "cell_type": "code",
   "execution_count": 2,
   "metadata": {},
   "outputs": [],
   "source": [
    "import matplotlib.pyplot as plt\n",
    "import numpy as np\n",
    "from pwscf import make_struc_doped, make_struc_undoped, write_inputs"
   ]
  },
  {
   "cell_type": "markdown",
   "metadata": {},
   "source": [
    "## Z Test"
   ]
  },
  {
   "cell_type": "markdown",
   "metadata": {},
   "source": [
    "Make input files (from z-1 to z-4)"
   ]
  },
  {
   "cell_type": "code",
   "execution_count": 5,
   "metadata": {},
   "outputs": [
    {
     "name": "stdout",
     "output_type": "stream",
     "text": [
      "MAKING FILE\n",
      "Writing LL_test/YBCO_conv_111_40vac_NOcleave_0sep_vc-relax.in\n",
      "MAKING FILE\n",
      "Writing LL_test/YBCO_conv_112_40vac_NOcleave_0sep_vc-relax.in\n",
      "MAKING FILE\n",
      "Writing LL_test/YBCO_conv_113_40vac_NOcleave_0sep_vc-relax.in\n",
      "MAKING FILE\n",
      "Writing LL_test/YBCO_conv_114_40vac_NOcleave_0sep_vc-relax.in\n"
     ]
    }
   ],
   "source": [
    "zs = np.arange(1,5)\n",
    "for z in zs:\n",
    "    [struc, struc_name] = make_struc_undoped(nxy = 1, nz = z, vacuum = 40)\n",
    "    infile = write_inputs(struc = struc, dirname = 'LL_test', name = struc_name, calc = 'vc-relax')"
   ]
  },
  {
   "cell_type": "markdown",
   "metadata": {},
   "source": [
    "## Separation Test"
   ]
  },
  {
   "cell_type": "code",
   "execution_count": 4,
   "metadata": {},
   "outputs": [],
   "source": [
    "separation = 10\n",
    "nz=3\n",
    "\n",
    "a=make_struc_undoped(vacuum = 20, nz = nz, separation = separation, cleave_plane = 'Y', nxy= 2)\n",
    "a=make_struc_undoped(vacuum = 20, nz = nz, separation = separation, cleave_plane = 'BaO')\n",
    "a=make_struc_undoped(vacuum = 20, nz = nz, separation = separation, cleave_plane = 'CuO')"
   ]
  },
  {
   "cell_type": "markdown",
   "metadata": {},
   "source": [
    "## Make Doped Cell"
   ]
  },
  {
   "cell_type": "code",
   "execution_count": 6,
   "metadata": {},
   "outputs": [],
   "source": [
    "a = make_struc_doped(nz = 1)"
   ]
  },
  {
   "cell_type": "markdown",
   "metadata": {},
   "source": [
    "## Doped Separation Test"
   ]
  },
  {
   "cell_type": "markdown",
   "metadata": {},
   "source": [
    "To make the cleaving plane on the doped sample I will need to sort all of the atoms by z height first, since they are not currently sorted within the 2xrt(2) supercell.\n",
    "\n",
    "Maybe get atoms, sort by z, return indexes, sort chemical symbols by same indexes, then count up how many planes should be included for each cleaving."
   ]
  },
  {
   "cell_type": "code",
   "execution_count": 48,
   "metadata": {},
   "outputs": [],
   "source": [
    "nxy=1\n",
    "nz = 1\n",
    "alat=3.82 \n",
    "blat=3.89 \n",
    "clat=11.68\n",
    "vacuum=0\n",
    "cleave_plane='NO'\n",
    "separation=0\n",
    "slab = True\n",
    "\n",
    "a = numpy.sqrt(alat**2 + blat**2)\n",
    "lattice = numpy.array([[a,0,0],[0,a,0],[0,0,clat]])\n",
    "symbols = ['Cu', 'Cu', 'O', 'O',\n",
    "           'O','O','Ba', 'Ba',\n",
    "           'Cu', 'Cu', 'O', 'O', 'O', 'O',\n",
    "           'Y', 'Y',\n",
    "           'O', 'O', 'O', 'O' ,'Cu', 'Cu',\n",
    "           'Ba', 'Ba', 'O', 'O']\n",
    "sc_pos = [[0,0,0], #Cu\n",
    "          [0.5,0.5,0], #Cu\n",
    "          [0.25,0.25,0], #O\n",
    "          [0.75,0.75,0], #O\n",
    "          [0,0,0.15918], #O\n",
    "          [0.5,0.5,0.15918], #O\n",
    "          [0.5, 0, 0.18061], #Ba\n",
    "          [0, 0.5, 0.18061], #Ba\n",
    "          [0,0,0.35332], #Cu\n",
    "          [0.5,0.5,0.35332], #Cu\n",
    "          [0.25,0.25,0.37835], #O\n",
    "          [0.75,0.75,0.37835], #O\n",
    "          [0.25,0.75,0.37935], #O\n",
    "          [0.75,0.25,0.37935], #O\n",
    "          [0.5,0,0.5], #Y\n",
    "          [0,0.5,0.5], #Y\n",
    "          [0.25,0.25,0.62065], #O\n",
    "          [0.75,0.75,0.62065], #O\n",
    "          [0.25,0.75,0.62165], #O\n",
    "          [0.75,0.25,0.62165], #O\n",
    "          [0,0,0.64668], #Cu\n",
    "          [0.5,0.5,0.64668], #Cu\n",
    "          [0.5, 0, 0.81939], #Ba\n",
    "          [0, 0.5, 0.81939], #Ba\n",
    "          [0,0,0.84082], #O\n",
    "          [0.5,0.5,0.84082] #O\n",
    "         ]\n",
    "YBCO = Atoms(symbols=symbols, scaled_positions=sc_pos, cell=lattice)\n",
    "\n",
    "#make an x/y supercell of 2 and dope 1/8 Y --> Ca\n",
    "multiplier = numpy.identity(3)\n",
    "multiplier[0,0]=2\n",
    "multiplier[1,1]=2\n",
    "supercell = make_supercell(YBCO, multiplier)\n",
    "\n",
    "temp_sym = supercell.get_chemical_symbols()\n",
    "temp_sym[15] = 'Ca'\n",
    "supercell.set_chemical_symbols(temp_sym)\n",
    "    \n",
    "\n",
    "#make the supercell of the 2rt(2) doped supercell in the z direction\n",
    "multiplier = numpy.identity(3)\n",
    "multiplier[2,2]=nz\n",
    "supercell = make_supercell(supercell, multiplier)\n",
    "\n",
    "#sort the atoms so cleave plane can easily be determined\n",
    "pos = supercell.get_positions()\n",
    "sym = supercell.get_chemical_symbols()\n",
    "args = numpy.argsort(pos[:,2])\n",
    "supercell.set_positions(pos[args])\n",
    "supercell.set_chemical_symbols([sym[j] for j in args])\n",
    "\n",
    "\n",
    "if slab:\n",
    "    #make the position of the 'capping' layer\n",
    "    Cu_layer = Atoms(symbols = ['Cu', 'Cu', 'O', 'O'], \n",
    "                     scaled_positions = [[0.0,0.0, 0.0],\n",
    "                                  [0.5,0.5,0],\n",
    "                                  [0.25,0.25,0], \n",
    "                                  [0.75,0.75,0]],\n",
    "                   cell = numpy.array([[a,0,0],[0,a,0],[0,0,clat]]))\n",
    "    #make a supercell of the capping layer\n",
    "    multiplier = numpy.identity(3)\n",
    "    multiplier[0,0]=2\n",
    "    multiplier[1,1]=2\n",
    "    Cu_layer = make_supercell(Cu_layer, multiplier)\n",
    "\n",
    "    #cap the unit cell\n",
    "    supercell = stack(supercell, Cu_layer)\n",
    "\n",
    "    #add vacuum\n",
    "    add_vacuum(supercell, vacuum)\n",
    "\n",
    "#find the plane to cleave on (closest to the middle)\n",
    "    if cleave_plane == 'CuO':\n",
    "        split = int(nz/2)*104 + 16\n",
    "        \n",
    "    elif cleave_plane == \"BaO\":\n",
    "        split = int(nz/2)*104 + 32\n",
    "        \n",
    "    elif cleave_plane == \"Y\":\n",
    "        split = int(nz/2)*104 + 64\n",
    "    \n",
    "    if cleave_plane != \"NO\":\n",
    "        temp_pos = supercell.get_positions()\n",
    "        temp_pos[split:,2] += separation #add separation in z to all atoms after cleave plane\n",
    "        supercell.set_positions(temp_pos)\n",
    "        temp_cell = supercell.get_cell()\n",
    "        temp_cell[2][2] += separation #add separation to cell height so vacuum is unchanged\n",
    "        supercell.set_cell(temp_cell)\n",
    "        \n",
    "#make the supercell of the 2rt(2) doped supercell in x/y\n",
    "multiplier = numpy.identity(3)\n",
    "multiplier[0,0]=nxy\n",
    "multiplier[1,1]=nxy\n",
    "supercell = make_supercell(supercell, multiplier)\n",
    "\n",
    "#output to cif\n",
    "name = f'YBCO_rt2_{nxy}{nxy}{nz}_{vacuum}vac_{cleave_plane}cleave_{separation}sep'\n",
    "write(f'{name}.cif', supercell)"
   ]
  },
  {
   "cell_type": "code",
   "execution_count": null,
   "metadata": {},
   "outputs": [],
   "source": [
    "\n"
   ]
  },
  {
   "cell_type": "markdown",
   "metadata": {},
   "source": [
    "# Inital relax calculation (RUNS A CALC)"
   ]
  },
  {
   "cell_type": "code",
   "execution_count": null,
   "metadata": {},
   "outputs": [],
   "source": [
    "def relax_YBCO(nk, ecut):\n",
    "    pseudopots = {'Y': PseudoPotential(ptype='uspp', element='Y', functional='LDA', name='Y.pz-spn-rrkjus_psl.1.0.0.UPF'),\n",
    "                  'Ba': PseudoPotential(ptype='uspp', element='Ba', functional='LDA', name='Ba.pz-spn-rrkjus_psl.1.0.0.UPF'),\n",
    "                  'Cu': PseudoPotential(ptype='uspp', element='Cu', functional='LDA', name='Cu.pz-d-rrkjus.UPF'),\n",
    "                  'O': PseudoPotential(ptype='uspp', element='O', functional='LDA', name='O.pz-rrkjus.UPF')}\n",
    "    struc = make_struc_non_doped()\n",
    "    kpts = Kpoints(gridsize=[nk, nk, nk], option='automatic', offset=True)\n",
    "    dirname = 'YBCO_relax_ecut_{}_nk_{}'.format(ecut, nk)\n",
    "    runpath = Dir(path=os.path.join(os.environ['WORKDIR'], \"Project\", dirname))\n",
    "    input_params = PWscf_inparam({\n",
    "        'CONTROL': {\n",
    "            'calculation': 'relax',\n",
    "            'pseudo_dir': os.environ['QE_POTENTIALS'],\n",
    "            'outdir': runpath.path,\n",
    "            'tstress': True,\n",
    "            'tprnfor': True,\n",
    "            'disk_io': 'none'\n",
    "        },\n",
    "        'SYSTEM': {\n",
    "            'ecutwfc': ecut,\n",
    "            'ecutrho': ecut * 12,\n",
    "            'occupations': 'smearing',\n",
    "            'smearing': 'mp',\n",
    "            'degauss': 0.02\n",
    "             },\n",
    "        'ELECTRONS': {\n",
    "            'diagonalization': 'david',\n",
    "            'mixing_beta': 0.7,\n",
    "            'conv_thr': 1e-7,\n",
    "        },\n",
    "        'IONS': {\n",
    "            'ion_dynamics': 'bfgs'\n",
    "        },\n",
    "        'CELL': {},\n",
    "        })\n",
    "\n",
    "    output_file = run_qe_pwscf(runpath=runpath, struc=struc,  pseudopots=pseudopots,\n",
    "                               params=input_params, kpoints=kpts, ncpu=16)\n",
    "    output = parse_qe_pwscf_output(outfile=output_file)\n",
    "    return output\n",
    "\n",
    "def kpts_scan():\n",
    "    ecut = 30\n",
    "    nk = np.arange(1, 2)\n",
    "    energy=[]\n",
    "    for i in nk:\n",
    "        output = relax_YBCO(ecut=ecut, nk=i)\n",
    "        energy.append(output['energy'])\n",
    "        print(i)\n",
    "    return energy"
   ]
  }
 ],
 "metadata": {
  "kernelspec": {
   "display_name": "Python 3",
   "language": "python",
   "name": "python3"
  },
  "language_info": {
   "codemirror_mode": {
    "name": "ipython",
    "version": 3
   },
   "file_extension": ".py",
   "mimetype": "text/x-python",
   "name": "python",
   "nbconvert_exporter": "python",
   "pygments_lexer": "ipython3",
   "version": "3.8.3"
  }
 },
 "nbformat": 4,
 "nbformat_minor": 4
}
