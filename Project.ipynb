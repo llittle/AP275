{
 "cells": [
  {
   "cell_type": "markdown",
   "metadata": {},
   "source": [
    "# Course project: cleavage plane for Ca doped YBCO"
   ]
  },
  {
   "cell_type": "code",
   "execution_count": 1,
   "metadata": {},
   "outputs": [],
   "source": [
    "import matplotlib.pyplot as plt\n",
    "import numpy as np\n",
    "from pwscf import make_struc_doped, make_struc_undoped, write_inputs, make_cleave_struc_undoped"
   ]
  },
  {
   "cell_type": "markdown",
   "metadata": {},
   "source": [
    "## Cleave Z=2 Relaxed Cell"
   ]
  },
  {
   "cell_type": "code",
   "execution_count": 2,
   "metadata": {},
   "outputs": [],
   "source": [
    "lattice_2_relax = np.array([\n",
    "   [3.888243331,   0.000000000,   0.000000000],\n",
    "   [0.000000000,   3.793282068,   0.000000000],\n",
    "   [0.000000000,   0.000000000,  43.772261683]])\n",
    "\n",
    "symbols_2_relax = ['Ba','Ba','Ba','Ba',\n",
    "           'Y','Y',\n",
    "           'Cu','Cu','Cu','Cu','Cu','Cu','Cu',\n",
    "           'O','O','O','O','O','O','O','O','O','O','O','O','O','O','O']\n",
    "\n",
    "pos_2_relax= np.array([[ 1.9441210480 ,       1.8966418432    ,    9.5363307681],\n",
    "               [ 1.9441210480  ,      1.8966418432    ,   21.2364115021],\n",
    "               [ 1.9441210480   ,     1.8966418432    ,    2.0684219014],\n",
    "               [ 1.9441210480    ,    1.8966418432    ,   13.7685135537],\n",
    "               [ 1.9441210480     ,   1.8966418432    ,    5.8085645285],\n",
    "               [ 1.9441210480      ,  1.8966418432    ,   17.4962566006],\n",
    "               [ 0.0000000000 ,       0.0000000000    ,    7.5500233693],\n",
    "               [ 0.0000000000 ,       0.0000000000    ,   19.2238547829],\n",
    "               [ 0.0000000000 ,       0.0000000000    ,    4.0810351969],\n",
    "               [ 0.0000000000 ,       0.0000000000    ,   15.7549072365],\n",
    "               [ 0.0000000000 ,       0.0000000000    ,    0.0839045299],\n",
    "               [ 0.0000000000 ,       0.0000000000    ,   11.6524888709],\n",
    "               [ 0.0000000000 ,       0.0000000000    ,   23.2208206425],\n",
    "               [ 0.0000000000 ,       1.8966418432    ,   -0.1003135104],\n",
    "               [ 0.0000000000 ,       1.8966418432    ,   11.6524690407],\n",
    "               [ 0.0000000000 ,       1.8966418432    ,   23.4050526932],\n",
    "               [ 1.9441210480 ,       0.0000000000    ,    7.2681752193],\n",
    "               [ 1.9441210480 ,       0.0000000000    ,   18.9572038231],\n",
    "               [ 1.9441210480 ,       0.0000000000    ,    4.3476717804],\n",
    "               [ 1.9441210480 ,       0.0000000000    ,   16.0367037430],\n",
    "               [ 0.0000000000 ,       1.8966418432    ,    7.1922414659],\n",
    "               [ 0.0000000000 ,       1.8966418432    ,   18.9215511152],\n",
    "               [ 0.0000000000 ,       1.8966418432    ,    4.3832718072],\n",
    "               [ 0.0000000000 ,       1.8966418432    ,   16.1125728669],\n",
    "               [ 0.0000000000 ,       0.0000000000    ,    9.7608360006],\n",
    "               [ 0.0000000000 ,       0.0000000000    ,   21.3322842147],\n",
    "               [ 0.0000000000 ,       0.0000000000    ,    1.9725514011],\n",
    "               [ 0.0000000000 ,       0.0000000000    ,   13.544034172]])\n",
    "\n",
    "sort_idx_2_relax = np.argsort(pos_2_relax[:,2])"
   ]
  },
  {
   "cell_type": "code",
   "execution_count": 3,
   "metadata": {},
   "outputs": [
    {
     "name": "stdout",
     "output_type": "stream",
     "text": [
      "MAKING FILE\n",
      "Writing /home/bond/Work/Test/YBCO_Y_cleave_10_sep.in\n"
     ]
    },
    {
     "data": {
      "text/plain": [
       "TextFile {'path': '/home/bond/Work/Test/YBCO_Y_cleave_10_sep.in', 'text': \"&CONTROL\\n    calculation = 'vc-relax'\\n    pseudo_dir = '/n/holyscratch01/hoffman_lab/ruizhe/YBCO_Project/pseudo'\\n    outdir = 'n/holyscratch01/hoffman_lab/ruizhe/outdir'\\n    tstress = .true.\\n    tprnfor = .true.\\n    disk_io = 'none'\\n    nstep = 300\\n    etot_conv_thr = 1e-05\\n    forc_conv_thr = 0.0001\\n/ \\n&SYSTEM\\n    ecutwfc = 60\\n    ecutrho = 720\\n    occupations = 'smearing'\\n    smearing = 'gaussian'\\n    degauss = 0.01\\n    ntyp = 4\\n    nat = 28\\n    ibrav = 0\\n/ \\n&ELECTRONS\\n    diagonalization = 'david'\\n    electron_maxstep = 120\\n    mixing_mode = 'local-TF'\\n    mixing_beta = 0.2\\n    mixing_ndim = 10\\n    conv_thr = 1e-06\\n/ \\n&IONS\\n    ion_dynamics = 'bfgs'\\n/ \\n&CELL\\n    cell_dynamics = 'bfgs'\\n/ \\nK_POINTS {automatic}\\n 8 8 1  0 0 0\\nATOMIC_SPECIES\\n  Ba 137.327 Ba.pbe-nsp-van.UPF\\n  Cu 63.546 Cu.pbe-n-van_ak.UPF\\n  O 15.999 O.pbe-van_ak.UPF\\n  Y 88.90584 Y.pbe-nsp-van.UPF\\nCELL_PARAMETERS {angstrom}\\n 3.888243331 0.0 0.0\\n 0.0 3.793282068 0.0\\n 0.0 0.0 53.772261683\\nATOMIC_POSITIONS {angstrom}\\n  O 0.00000 1.89664 -0.10031\\n  Cu 0.00000 0.00000 0.08390\\n  O 0.00000 0.00000 1.97255\\n  Ba 1.94412 1.89664 2.06842\\n  Cu 0.00000 0.00000 4.08104\\n  O 1.94412 0.00000 4.34767\\n  O 0.00000 1.89664 4.38327\\n  Y 1.94412 1.89664 5.80856\\n  O 0.00000 1.89664 7.19224\\n  O 1.94412 0.00000 7.26818\\n  Cu 0.00000 0.00000 7.55002\\n  Ba 1.94412 1.89664 9.53633\\n  O 0.00000 0.00000 9.76084\\n  O 0.00000 1.89664 11.65247\\n  Cu 0.00000 0.00000 11.65249\\n  O 0.00000 0.00000 13.54403\\n  Ba 1.94412 1.89664 13.76851\\n  Cu 0.00000 0.00000 15.75491\\n  O 1.94412 0.00000 16.03670\\n  O 0.00000 1.89664 16.11257\\n  Y 1.94412 1.89664 17.49626\\n  O 0.00000 1.89664 28.92155\\n  O 1.94412 0.00000 28.95720\\n  Cu 0.00000 0.00000 29.22385\\n  Ba 1.94412 1.89664 31.23641\\n  O 0.00000 0.00000 31.33228\\n  Cu 0.00000 0.00000 33.22082\\n  O 0.00000 1.89664 33.40505\\n\"}"
      ]
     },
     "execution_count": 3,
     "metadata": {},
     "output_type": "execute_result"
    }
   ],
   "source": [
    "[structure, name] = make_cleave_struc_undoped(lattice_2_relax, [symbols_2_relax[idx] for idx in sort_idx_2_relax], \n",
    "                          pos_2_relax[sort_idx_2_relax], 2, cleave_plane = 'Y', separation=10)\n",
    "#print(name)\n",
    "write_inputs(ecut = 60, nkxy = 8, nkz = 1, struc = structure, dirname = name, calc = 'vc-relax')"
   ]
  },
  {
   "cell_type": "code",
   "execution_count": 3,
   "metadata": {},
   "outputs": [
    {
     "name": "stdout",
     "output_type": "stream",
     "text": [
      "MAKING FILE\n",
      "Writing /home/bond/Work/Input_files/YBCO_BaO_cleave_1.0_sep.in\n",
      "MAKING FILE\n",
      "Writing /home/bond/Work/Input_files/YBCO_CuO_cleave_1.0_sep.in\n",
      "MAKING FILE\n",
      "Writing /home/bond/Work/Input_files/YBCO_Y_cleave_1.0_sep.in\n",
      "MAKING FILE\n",
      "Writing /home/bond/Work/Input_files/YBCO_BaO_cleave_2.0_sep.in\n",
      "MAKING FILE\n",
      "Writing /home/bond/Work/Input_files/YBCO_CuO_cleave_2.0_sep.in\n",
      "MAKING FILE\n",
      "Writing /home/bond/Work/Input_files/YBCO_Y_cleave_2.0_sep.in\n",
      "MAKING FILE\n",
      "Writing /home/bond/Work/Input_files/YBCO_BaO_cleave_3.0_sep.in\n",
      "MAKING FILE\n",
      "Writing /home/bond/Work/Input_files/YBCO_CuO_cleave_3.0_sep.in\n",
      "MAKING FILE\n",
      "Writing /home/bond/Work/Input_files/YBCO_Y_cleave_3.0_sep.in\n",
      "MAKING FILE\n",
      "Writing /home/bond/Work/Input_files/YBCO_BaO_cleave_4.0_sep.in\n",
      "MAKING FILE\n",
      "Writing /home/bond/Work/Input_files/YBCO_CuO_cleave_4.0_sep.in\n",
      "MAKING FILE\n",
      "Writing /home/bond/Work/Input_files/YBCO_Y_cleave_4.0_sep.in\n",
      "MAKING FILE\n",
      "Writing /home/bond/Work/Input_files/YBCO_BaO_cleave_5.0_sep.in\n",
      "MAKING FILE\n",
      "Writing /home/bond/Work/Input_files/YBCO_CuO_cleave_5.0_sep.in\n",
      "MAKING FILE\n",
      "Writing /home/bond/Work/Input_files/YBCO_Y_cleave_5.0_sep.in\n",
      "MAKING FILE\n",
      "Writing /home/bond/Work/Input_files/YBCO_BaO_cleave_6.0_sep.in\n",
      "MAKING FILE\n",
      "Writing /home/bond/Work/Input_files/YBCO_CuO_cleave_6.0_sep.in\n",
      "MAKING FILE\n",
      "Writing /home/bond/Work/Input_files/YBCO_Y_cleave_6.0_sep.in\n",
      "MAKING FILE\n",
      "Writing /home/bond/Work/Input_files/YBCO_BaO_cleave_7.0_sep.in\n",
      "MAKING FILE\n",
      "Writing /home/bond/Work/Input_files/YBCO_CuO_cleave_7.0_sep.in\n",
      "MAKING FILE\n",
      "Writing /home/bond/Work/Input_files/YBCO_Y_cleave_7.0_sep.in\n",
      "MAKING FILE\n",
      "Writing /home/bond/Work/Input_files/YBCO_BaO_cleave_8.0_sep.in\n",
      "MAKING FILE\n",
      "Writing /home/bond/Work/Input_files/YBCO_CuO_cleave_8.0_sep.in\n",
      "MAKING FILE\n",
      "Writing /home/bond/Work/Input_files/YBCO_Y_cleave_8.0_sep.in\n"
     ]
    }
   ],
   "source": [
    "separations = np.linspace(1,8,8)\n",
    "for separation in separations:\n",
    "    for cleave_plane in ['BaO','CuO','Y']:\n",
    "        [structure, name] = make_cleave_struc_undoped(lattice_2_relax, [symbols_2_relax[idx] for idx in sort_idx_2_relax], \n",
    "                          pos_2_relax[sort_idx_2_relax], 2, cleave_plane = cleave_plane, separation=separation)\n",
    "        write_inputs(ecut = 60, nkxy = 8, nkz = 1, struc = structure, dirname = name, calc = 'vc-relax')"
   ]
  },
  {
   "cell_type": "markdown",
   "metadata": {},
   "source": [
    "## Relaxed Undoped Z=3"
   ]
  },
  {
   "cell_type": "code",
   "execution_count": 5,
   "metadata": {},
   "outputs": [],
   "source": [
    "lattice_3_relax =np.array([[3.864431295,   0.000016036,  -0.000000526],\n",
    "   [0.000006690,   3.817298207,  -0.000006353],\n",
    "  [-0.000008276,  -0.000093877,  55.034164756]])\n",
    "\n",
    "symbols_3_relax= ['Ba','Ba','Ba','Ba','Ba','Ba',\n",
    "                 'Y','Y','Y',\n",
    "                 'Cu','Cu','Cu','Cu',\n",
    "                  'Cu','Cu','Cu','Cu','Cu','Cu',\n",
    "                 'O','O','O','O','O',\n",
    "                 'O','O','O','O','O',\n",
    "                 'O','O','O','O','O',\n",
    "                 'O','O','O','O','O',\n",
    "                 'O','O']\n",
    "\n",
    "pos_3_relax=np.array([[     1.9679456186   ,     1.9290906912  ,      9.5574650775],\n",
    "        [   1.9792024503     ,   1.9289399376    ,   21.3205595193],\n",
    "        [    1.9521913659    ,    1.9292862521   ,    33.1114652714],\n",
    "        [    1.9521506617    ,    1.9292515200   ,     2.0805219653],\n",
    "        [    1.9791827347    ,    1.9289212038   ,    13.8707544476],\n",
    "        [    1.9679854071    ,    1.9291242361   ,    25.6340937027],\n",
    "        [     1.9554360864   ,     1.9291653018  ,      5.8391444224],\n",
    "        [     1.9710999057   ,     1.9288623791  ,     17.5956280181],\n",
    "        [     1.9554844916   ,     1.9291913903  ,     29.3526520398],\n",
    "        [    0.0290459267    ,    0.0204755144   ,     7.5728170661],\n",
    "        [    0.0426813668    ,    0.0201946470   ,    19.3373313559],\n",
    "        [    0.0215634996    ,    0.0205710675   ,    31.0822157956],\n",
    "        [    0.0215186020    ,    0.0205492854   ,     4.1097078606],\n",
    "        [    0.0426801815    ,    0.0201852713   ,    15.8539162263],\n",
    "        [    0.0290937929    ,    0.0205057344   ,    27.6189077760],\n",
    "        [    0.0210617219    ,    0.0206344626   ,     0.1095296715],\n",
    "        [   -0.0279921326    ,    0.0202712702   ,    11.7101428574],\n",
    "        [   -0.0280618883    ,    0.0203058530   ,    23.4812697780],\n",
    "        [    0.0211352185    ,    0.0206727862   ,    35.0825922110],\n",
    "        [     0.0228984827   ,     1.9294118661  ,     -0.0391675108],\n",
    "        [    -0.3302243943   ,     1.9289440511  ,     11.7085955828],\n",
    "        [    -0.3304193626   ,     1.9289780916  ,     23.4828564845],\n",
    "        [     0.0230047179   ,     1.9294591623  ,     35.2313082573],\n",
    "        [     1.9603774394   ,     0.0206611310  ,      7.2829150360],\n",
    "        [     1.9737812853   ,     0.0203590425  ,     19.0445794566],\n",
    "        [     1.9537731333   ,     0.0207446927  ,     30.8033906594],\n",
    "        [     1.9537248395   ,     0.0207186986  ,      4.3884619974],\n",
    "        [     1.9737764867   ,     0.0203546058  ,     16.1466631759],\n",
    "        [     1.9604194345   ,     0.0206891967  ,     27.9088452228],\n",
    "        [     0.0223443427   ,     1.9291373377  ,      7.2466228150],\n",
    "        [     0.0366303639   ,     1.9288688990  ,     19.0178774317],\n",
    "        [     0.0221386910   ,     1.9292540261  ,     30.7878462581],\n",
    "        [     0.0220866250   ,     1.9292313099  ,      4.4039980222],\n",
    "        [     0.0366253134   ,     1.9288598837  ,     16.1733876733],\n",
    "        [     0.0223902874   ,     1.9291697792  ,     27.9451323883],\n",
    "        [     0.0812074626   ,     0.0204115869  ,      9.8244602123],\n",
    "        [     0.0880851621   ,     0.0203556304  ,     21.5976783934],\n",
    "        [     0.0199638079   ,     0.0206595764  ,     33.1962554542],\n",
    "        [     0.0199442882   ,     0.0206341296  ,      1.9958799634],\n",
    "        [     0.0881155600   ,     0.0203269321  ,     13.5937005745],\n",
    "        [    0.0812258362    ,    0.0204542060   ,    25.3669848023]])\n",
    "\n",
    "sort_idx_3_relax = np.argsort(pos_3_relax[:,2])"
   ]
  },
  {
   "cell_type": "code",
   "execution_count": 6,
   "metadata": {},
   "outputs": [],
   "source": [
    "separations = np.linspace(1,6,6)\n",
    "for separation in separations:\n",
    "    for cleave_plane in ['BaO','CuO','Y']:\n",
    "        make_cleave_struc_undoped(lattice_3_relax, [symbols_3_relax[idx] for idx in sort_idx_3_relax], \n",
    "                          pos_3_relax[sort_idx_3_relax], 3, cleave_plane = cleave_plane, separation=separation)\n",
    "        ##make the input file"
   ]
  },
  {
   "cell_type": "markdown",
   "metadata": {},
   "source": [
    "## Z Test"
   ]
  },
  {
   "cell_type": "markdown",
   "metadata": {},
   "source": [
    "Make input files (from z-1 to z-4)"
   ]
  },
  {
   "cell_type": "code",
   "execution_count": 5,
   "metadata": {},
   "outputs": [
    {
     "name": "stdout",
     "output_type": "stream",
     "text": [
      "MAKING FILE\n",
      "Writing LL_test/YBCO_conv_111_40vac_NOcleave_0sep_vc-relax.in\n",
      "MAKING FILE\n",
      "Writing LL_test/YBCO_conv_112_40vac_NOcleave_0sep_vc-relax.in\n",
      "MAKING FILE\n",
      "Writing LL_test/YBCO_conv_113_40vac_NOcleave_0sep_vc-relax.in\n",
      "MAKING FILE\n",
      "Writing LL_test/YBCO_conv_114_40vac_NOcleave_0sep_vc-relax.in\n"
     ]
    }
   ],
   "source": [
    "zs = np.arange(1,5)\n",
    "for z in zs:\n",
    "    [struc, struc_name] = make_struc_undoped(nxy = 1, nz = z, vacuum = 40)\n",
    "    infile = write_inputs(struc = struc, dirname = 'LL_test', name = struc_name, calc = 'vc-relax')"
   ]
  },
  {
   "cell_type": "markdown",
   "metadata": {},
   "source": [
    "## Separation Test"
   ]
  },
  {
   "cell_type": "code",
   "execution_count": 4,
   "metadata": {},
   "outputs": [],
   "source": [
    "separation = 10\n",
    "nz=3\n",
    "\n",
    "a=make_struc_undoped(vacuum = 20, nz = nz, separation = separation, cleave_plane = 'Y', nxy= 2)\n",
    "a=make_struc_undoped(vacuum = 20, nz = nz, separation = separation, cleave_plane = 'BaO')\n",
    "a=make_struc_undoped(vacuum = 20, nz = nz, separation = separation, cleave_plane = 'CuO')"
   ]
  },
  {
   "cell_type": "markdown",
   "metadata": {},
   "source": [
    "## Make Doped Cell"
   ]
  },
  {
   "cell_type": "code",
   "execution_count": 5,
   "metadata": {},
   "outputs": [
    {
     "name": "stdout",
     "output_type": "stream",
     "text": [
      "MAKING FILE\n",
      "Writing /home/bond/Work/Input_files/dYBCO_rt2_111_0vac_NOcleave_0sep.in\n"
     ]
    }
   ],
   "source": [
    "[struc, struc_name]= make_struc_doped(nz = 1, slab=False)\n",
    "infile = write_inputs(struc = struc, dirname = struc_name, calc = 'vc-relax')"
   ]
  },
  {
   "cell_type": "code",
   "execution_count": 3,
   "metadata": {},
   "outputs": [
    {
     "data": {
      "text/plain": [
       "'dYBCO_rt2_111_0vac_NOcleave_0sep'"
      ]
     },
     "execution_count": 3,
     "metadata": {},
     "output_type": "execute_result"
    }
   ],
   "source": [
    "struc_name"
   ]
  },
  {
   "cell_type": "markdown",
   "metadata": {},
   "source": [
    "# Doped Relaxed Results for slabs"
   ]
  },
  {
   "cell_type": "code",
   "execution_count": 18,
   "metadata": {},
   "outputs": [],
   "source": [
    "pos=           np.array([[0.0004230179,        0.0013038292    ,   -0.0001645955],\n",
    "           [0.0004230179 ,       3.9022638562    ,   -0.0001645955],\n",
    "            [-0.0051389334 ,       1.9517838427   ,    -0.0001138680],\n",
    "            [-0.0037657271  ,      5.8549207625   ,    -0.0001497927],\n",
    "            [-0.0033089749   ,    -0.0024230902   ,     1.8771296424],\n",
    "            [-0.0033089749   ,     3.9059907756   ,     1.8771296424],\n",
    "         [-1.8876853265   ,     1.9517838427   ,     2.1037724462],\n",
    "           [1.8967554831    ,    1.9517838427    ,    2.1360067571],\n",
    "           [0.0034073096    ,    0.0055685867    ,    4.1008590711],\n",
    "           [0.0034073096    ,    3.8979990987    ,    4.1008590711],\n",
    "            [-0.0548362496   ,     1.9517838427   ,     4.3490017850],\n",
    "            [-0.0080020536   ,     5.8552377145   ,     4.4049069580],\n",
    "             [1.8967554831   ,     3.9614897310   ,     4.3801379133],\n",
    "            [-1.8957723798   ,     3.9103246070   ,     4.4377416078],\n",
    "            [-1.8778399339   ,     1.9517838427   ,     5.8491464317],\n",
    "            [1.8967554831   ,     1.9517838427   ,     5.8491139339],\n",
    "            [-0.0541733603   ,     1.9517838427   ,     7.3461611100],\n",
    "            [-0.0078988553   ,     5.8552167932   ,     7.2902740320],\n",
    "             [1.8967554831   ,     3.9622791804   ,     7.3223483494],\n",
    "            [-1.8957840187   ,     3.9104672816   ,     7.2646308659],\n",
    "            [0.0034239794   ,     0.0055915006   ,     7.5978695750],\n",
    "            [0.0034239794   ,     3.8979761849   ,     7.5978695750],\n",
    "           [-1.8876997821   ,     1.9517838427   ,     9.5941013796],\n",
    "            [1.8967554831   ,     1.9517838427   ,     9.5620184814],\n",
    "            [-0.0033809153   ,    -0.0023544960   ,     9.8210599216],\n",
    "            [-0.0033809153   ,     3.9059221815   ,     9.8210599216],\n",
    "            [3.7930879484   ,     3.9022638562   ,    -0.0001645955],\n",
    "            [3.7932761175   ,     7.8072380765   ,    -0.0001579340],\n",
    "             [3.7972766934   ,     5.8549207625   ,    -0.0001497927],\n",
    "             [3.7834384525   ,     9.7589192136   ,    -0.0001675873],\n",
    "            [3.7968199412   ,     3.9059907756   ,     1.8771296424],\n",
    "             [3.7936759677   ,     7.8063153152   ,     1.8819889520],\n",
    "            [1.8967554831   ,     5.8473992568   ,     2.1067087447],\n",
    "            [5.6902664494   ,     5.8553515281   ,     2.1001859517],\n",
    "            [3.7901036567   ,     3.8979990987   ,     4.1008590711],\n",
    "            [3.7942428748   ,     7.8072479597   ,     4.0976999645],\n",
    "             [3.8015130199   ,     5.8552377145   ,     4.4049069580],\n",
    "             [3.7932930720   ,     9.7589192136   ,     4.4043315291],\n",
    "             [5.6912495527   ,     7.8003784493   ,     4.4377416078],\n",
    "             [1.8967554831   ,     7.8070544867   ,     4.4356136713],\n",
    "             [1.8967554831   ,     5.8360363898   ,     5.8492923023],\n",
    "             [5.6902664494   ,     5.8553515281   ,     5.8492227815],\n",
    "             [3.8014098216   ,     5.8552167932   ,     7.2902740320],\n",
    "             [3.7934885900   ,     9.7589192136   ,     7.2905872834],\n",
    "             [5.6912379139   ,     7.8002357747   ,     7.2646308659],\n",
    "             [1.8967554831   ,     7.8072635056   ,     7.2670991655],\n",
    "            [3.7900869869   ,     3.8979761849   ,     7.5978695750],\n",
    "            [3.7942529604   ,     7.8072397474   ,     7.6009491642],\n",
    "            [1.8967554831   ,     5.8474459954   ,     9.5913759347],\n",
    "            [5.6902664494   ,     5.8553515281   ,     9.5977764063],\n",
    "             [3.7968918816   ,     3.9059221815   ,     9.8210599216],\n",
    "             [3.7937607410   ,     7.8063634672   ,     9.8162149448],\n",
    "           [-3.7937458150   ,     3.9034649798   ,    -0.0001579340],\n",
    "           [-3.7939339841   ,     7.8084392001   ,    -0.0001645955],\n",
    "            [-3.7897452392   ,     5.8557822938   ,    -0.0001497927],\n",
    "            [-3.7883720328   ,     9.7589192136   ,    -0.0001138680],\n",
    "            [-3.7933459648   ,     3.9043877410   ,     1.8819889520],\n",
    "            [-3.7902019914   ,     7.8047122807   ,     1.8771296424],\n",
    "           [-5.6902664494   ,     5.8633037995   ,     2.1067087447],\n",
    "           [-1.8967554831   ,     5.8553515281   ,     2.1001859517],\n",
    "           [-3.7927790577   ,     3.9034550966   ,     4.0976999645],\n",
    "           [-3.7969182759   ,     7.8127039575   ,     4.1008590711],\n",
    "            [-3.7855089127   ,     5.8554653418   ,     4.4049069580],\n",
    "            [-3.7386747166   ,     9.7589192136   ,     4.3490017850],\n",
    "            [-1.8977385865   ,     7.8003784493   ,     4.4377416078],\n",
    "            [-5.6902664494   ,     7.7492133253   ,     4.3801379133],\n",
    "            [-5.6902664494   ,     5.8746666665   ,     5.8492923023],\n",
    "            [-1.8967554831   ,     5.8553515281   ,     5.8492227815],\n",
    "            [-3.7856121109   ,     5.8554862631   ,     7.2902740320],\n",
    "            [-3.7393376060   ,     9.7589192136   ,     7.3461611100],\n",
    "            [-1.8977269476   ,     7.8002357747   ,     7.2646308659],\n",
    "            [-5.6902664494   ,     7.7484238759   ,     7.3223483494],\n",
    "           [-3.7927689721   ,     3.9034633089   ,     7.6009491642],\n",
    "           [-3.7969349456   ,     7.8127268714   ,     7.5978695750],\n",
    "           [-5.6902664494   ,     5.8632570609   ,     9.5913759347],\n",
    "           [-1.8967554831   ,     5.8553515281   ,     9.5977764063],\n",
    "            [-3.7932611915   ,     3.9043395891   ,     9.8162149448],\n",
    "            [-3.7901300509   ,     7.8047808748   ,     9.8210599216],\n",
    "            [0.0002348488   ,     7.8072380765   ,    -0.0001579340],\n",
    "            [0.0002348488   ,    11.7106003507   ,    -0.0001579340],\n",
    "             [0.0100725138   ,     9.7589192136   ,    -0.0001675873],\n",
    "            [-0.0037657271   ,    13.6629176646   ,    -0.0001497927],\n",
    "            [-0.0001650014   ,     7.8063153152   ,     1.8819889520],\n",
    "            [-0.0001650014   ,    11.7115231119   ,     1.8819889520],\n",
    "           [-1.9058256398   ,     9.7589192136   ,     2.1037724462],\n",
    "            [1.8967554831   ,     9.7589192136   ,     2.0964847970],\n",
    "           [-0.0007319085   ,     7.8072479597   ,     4.0976999645],\n",
    "           [-0.0007319085   ,    11.7105904674   ,     4.0976999645],\n",
    "             [0.0002178942   ,     9.7589192136   ,     4.4043315291],\n",
    "            [-0.0080020536   ,    13.6626007126   ,     4.4049069580],\n",
    "             [1.8967554831   ,    11.7107839405   ,     4.4356136713],\n",
    "            [-1.8977385865   ,    11.7174599779   ,     4.4377416078],\n",
    "            [-1.9156710324   ,     9.7589192136   ,     5.8491464317],\n",
    "             [1.8967554831   ,     9.7589192136   ,     5.8492169554],\n",
    "             [0.0000223762   ,     9.7589192136   ,     7.2905872834],\n",
    "            [-0.0078988553   ,    13.6626216339   ,     7.2902740320],\n",
    "             [1.8967554831   ,    11.7105749216   ,     7.2670991655],\n",
    "            [-1.8977269476   ,    11.7176026525   ,     7.2646308659],\n",
    "           [-0.0007419941   ,     7.8072397474   ,     7.6009491642],\n",
    "           [-0.0007419941   ,    11.7105986798   ,     7.6009491642],\n",
    "           [-1.9058111841   ,     9.7589192136   ,     9.5941013796],\n",
    "            [1.8967554831   ,     9.7589192136   ,     9.6014806951],\n",
    "            [-0.0002497747   ,     7.8063634672   ,     9.8162149448],\n",
    "            [-0.0002497747   ,    11.7114749600   ,     9.8162149448]])\n",
    "\n",
    "\n",
    "\n",
    "sym = ['Cu','Cu','O','O',\n",
    "           'O','O','Ba','Ba',\n",
    "           'Cu','Cu','O','O','O','O',\n",
    "           'Y','Ca',\n",
    "           'O','O','O','O','Cu','Cu',\n",
    "           'Ba','Ba','O','O',\n",
    "           'Cu','Cu','O','O',\n",
    "           'O','O','Ba','Ba',\n",
    "           'Cu','Cu','O','O','O','O',\n",
    "           'Y','Y',\n",
    "           'O','O','O','O','Cu','Cu',\n",
    "           'Ba','Ba','O','O',\n",
    "           'Cu','Cu','O','O',\n",
    "           'O','O','Ba','Ba',\n",
    "           'Cu','Cu','O','O','O','O',\n",
    "           'Y','Y',\n",
    "           'O','O','O','O','Cu','Cu',\n",
    "           'Ba','Ba','O','O',\n",
    "           'Cu','Cu','O','O',\n",
    "           'O','O','Ba','Ba',\n",
    "           'Cu','Cu','O','O','O','O',\n",
    "           'Y','Y',\n",
    "           'O','O','O','O','Cu','Cu',\n",
    "           'Ba','Ba','O','O']"
   ]
  },
  {
   "cell_type": "code",
   "execution_count": 21,
   "metadata": {},
   "outputs": [],
   "source": [
    "idx=np.argsort(pos[:,2])\n",
    "pos_sort=pos[idx]\n",
    "sym_sort=[sym[i] for i in idx]"
   ]
  },
  {
   "cell_type": "code",
   "execution_count": 1,
   "metadata": {},
   "outputs": [],
   "source": [
    "import matplotlib.pyplot as plt\n",
    "import numpy as np\n",
    "from pwscf import make_struc_doped, make_struc_undoped, write_inputs, make_cleave_struc_undoped"
   ]
  },
  {
   "cell_type": "code",
   "execution_count": 2,
   "metadata": {},
   "outputs": [
    {
     "name": "stdout",
     "output_type": "stream",
     "text": [
      "Cell([[-7.587021933, 7.807135371, 0.0], [7.587021933, 7.807135371, 0.0], [0.0, 0.0, 23.496858844000002]])\n",
      "MAKING FILE\n",
      "Writing /home/bond/Work/Input_files/dYBCO_rt2_112_20vac_NOcleave_0sep.in\n"
     ]
    }
   ],
   "source": [
    "[struc,struc_name]=make_struc_doped(nz=2,slab=True, vacuum = 20)\n",
    "infile = write_inputs(struc = struc, dirname = struc_name, calc = 'vc-relax')"
   ]
  },
  {
   "cell_type": "markdown",
   "metadata": {},
   "source": [
    "## 50% dopping"
   ]
  },
  {
   "cell_type": "code",
   "execution_count": 1,
   "metadata": {},
   "outputs": [],
   "source": [
    "import matplotlib.pyplot as plt\n",
    "import numpy as np\n",
    "from pwscf import make_struc_doped, make_struc_undoped, write_inputs, make_cleave_struc_undoped"
   ]
  },
  {
   "cell_type": "code",
   "execution_count": 2,
   "metadata": {},
   "outputs": [],
   "source": [
    "pos = np.array([[-0.0065423844,        1.8713397913,       -0.1743744292],\n",
    "            [3.9259628413,        1.8713397913,       -0.1743744292],\n",
    "            [-0.0135279302,        0.0000000000,        0.0859223233],\n",
    "            [3.9329483871,        0.0000000000,        0.0859223233],         \n",
    "            [-0.0226770670,        0.0000000000,        1.9648058715],\n",
    "            [3.9420975238,        0.0000000000,        1.9648058715],\n",
    "         [1.9597107482,        1.8713397913,        2.1597702521],\n",
    "           [5.8791312051,        1.8713397913,        2.1552439512],         \n",
    "           [0.0149185306,        0.0000000000,        4.0828241107],\n",
    "           [3.9045019262,        0.0000000000,        4.0828241107],\n",
    "            [1.9597107482,        0.0000000000,        4.1874186436],\n",
    "            [5.8791312051,        0.0000000000,        4.3692363004],\n",
    "             [-0.0653364655,        1.8713397913,        4.3661162560],\n",
    "            [3.9847569224,        1.8713397913,        4.3661162560],        \n",
    "            [5.8791312051,        1.8713397913,        5.8552617430],\n",
    "            [1.9597107482,        1.8713397913,        5.8297021374],           \n",
    "            [1.9597107482,        0.0000000000,        7.4165909342],\n",
    "            [5.8791312051,        0.0000000000,        7.3203371835],\n",
    "             [-0.0500090890,        1.8713397913,        7.2497817768],\n",
    "            [3.9694295459,        1.8713397913,        7.2497817768],\n",
    "            [0.0123173129,        0.0000000000,        7.5933798966],\n",
    "            [3.9071031440,        0.0000000000,        7.5933798966],\n",
    "           [1.9597107482,        1.8713397913,        9.4734241915],\n",
    "            [5.8791312051,        1.8713397913,        9.5894865180],\n",
    "            [0.0499938780,        0.0000000000,        9.8358179432],\n",
    "            [3.8694265789,        0.0000000000,        9.8358179432],\n",
    "            [-0.0047999208,        0.0000000000,       11.7210683040],\n",
    "            [3.9242203777,        0.0000000000,       11.7210683040],\n",
    "             [-0.3010476348,        1.8713397913,       11.7210529706],\n",
    "             [4.2204680917,        1.8713397913,       11.7210529706],\n",
    "            [1.9597107482,        1.8713397913,       13.9687595392],\n",
    "             [5.8791312051,        1.8713397913,       13.8526694330],\n",
    "            [0.0500047621,        0.0000000000,       13.6063044983],\n",
    "            [3.8694156948,        0.0000000000,       13.6063044983],                \n",
    "            [0.0123223354,        0.0000000000,       15.8487569987],\n",
    "            [3.9070981215,        0.0000000000,       15.8487569987],\n",
    "             [1.9597107482,        0.0000000000,       16.0255931575],\n",
    "             [5.8791312051,        0.0000000000,       16.1217693473],\n",
    "             [-0.0500011228,        1.8713397913,       16.1923627640],\n",
    "             [3.9694215797,        1.8713397913,       16.1923627640],            \n",
    "             [5.8791312051,        1.8713397913,       17.5868357318],\n",
    "             [1.9597107482,        1.8713397913,       17.6124680087],                   \n",
    "             [0.0149367190,        0.0000000000,       19.3592120234],\n",
    "             [3.9044837378,        0.0000000000,       19.3592120234],\n",
    "             [1.9597107482,        0.0000000000,       19.2546895314],\n",
    "             [5.8791312051,        0.0000000000,       19.0728269630],\n",
    "            [-0.0653381103,        1.8713397913,       19.0759802467],\n",
    "            [3.9847585672,        1.8713397913,       19.0759802467],                       \n",
    "            [1.9597107482,        1.8713397913,       21.2823918114],\n",
    "            [5.8791312051,        1.8713397913,       21.2866366295],\n",
    "             [-0.0226538251,        0.0000000000,       21.4771806242],\n",
    "             [3.9420742820,        0.0000000000,       21.4771806242],                    \n",
    "           [-0.0139880887,        0.0000000000,       23.3560274164],\n",
    "           [3.9334085456,        0.0000000000,       23.3560274164],\n",
    "            [-0.0070481130,        1.8713397913,       23.6163288175],\n",
    "            [3.9264685699,        1.8713397913,       23.6163288175]])\n",
    "\n",
    "sym = ['O','O','Cu','Cu',\n",
    "           'O','O','Ba','Ba',\n",
    "           'Cu','Cu','O','O','O','O',\n",
    "           'Y','Ca',\n",
    "           'O','O','O','O','Cu','Cu',\n",
    "           'Ba','Ba','O','O',\n",
    "           'Cu','Cu','O','O',\n",
    "           'Ba','Ba','O','O',\n",
    "           'Cu','Cu','O','O','O','O',\n",
    "           'Y','Ca',\n",
    "           'Cu','Cu','O','O','O','O',\n",
    "           'Ba','Ba','O','O',\n",
    "           'Cu','Cu','O','O'\n",
    "           ]"
   ]
  },
  {
   "cell_type": "code",
   "execution_count": 3,
   "metadata": {},
   "outputs": [],
   "source": [
    "idx=np.argsort(pos[:,2])\n",
    "pos_sort=pos[idx]\n",
    "sym_sort=[sym[i] for i in idx]"
   ]
  },
  {
   "cell_type": "code",
   "execution_count": 4,
   "metadata": {},
   "outputs": [
    {
     "name": "stdout",
     "output_type": "stream",
     "text": [
      "Cell([[-7.587021933, 7.807135371, 0.0], [7.587021933, 7.807135371, 0.0], [0.0, 0.0, 23.496858844000002]])\n",
      "MAKING FILE\n",
      "Writing /home/bond/Work/Input_files/dYBCO_rt2_112_20vac_NOcleave_0sep.pwi\n"
     ]
    }
   ],
   "source": [
    "[struc,struc_name]=make_struc_doped(nz=2,slab=True, vacuum = 20)\n",
    "infile = write_inputs(struc = struc, dirname = struc_name, calc = 'scf')"
   ]
  },
  {
   "cell_type": "markdown",
   "metadata": {},
   "source": [
    "# Inital relax calculation (RUNS A CALC)"
   ]
  },
  {
   "cell_type": "code",
   "execution_count": null,
   "metadata": {},
   "outputs": [],
   "source": [
    "def relax_YBCO(nk, ecut):\n",
    "    pseudopots = {'Y': PseudoPotential(ptype='uspp', element='Y', functional='LDA', name='Y.pz-spn-rrkjus_psl.1.0.0.UPF'),\n",
    "                  'Ba': PseudoPotential(ptype='uspp', element='Ba', functional='LDA', name='Ba.pz-spn-rrkjus_psl.1.0.0.UPF'),\n",
    "                  'Cu': PseudoPotential(ptype='uspp', element='Cu', functional='LDA', name='Cu.pz-d-rrkjus.UPF'),\n",
    "                  'O': PseudoPotential(ptype='uspp', element='O', functional='LDA', name='O.pz-rrkjus.UPF')}\n",
    "    struc = make_struc_non_doped()\n",
    "    kpts = Kpoints(gridsize=[nk, nk, nk], option='automatic', offset=True)\n",
    "    dirname = 'YBCO_relax_ecut_{}_nk_{}'.format(ecut, nk)\n",
    "    runpath = Dir(path=os.path.join(os.environ['WORKDIR'], \"Project\", dirname))\n",
    "    input_params = PWscf_inparam({\n",
    "        'CONTROL': {\n",
    "            'calculation': 'relax',\n",
    "            'pseudo_dir': os.environ['QE_POTENTIALS'],\n",
    "            'outdir': runpath.path,\n",
    "            'tstress': True,\n",
    "            'tprnfor': True,\n",
    "            'disk_io': 'none'\n",
    "        },\n",
    "        'SYSTEM': {\n",
    "            'ecutwfc': ecut,\n",
    "            'ecutrho': ecut * 12,\n",
    "            'occupations': 'smearing',\n",
    "            'smearing': 'mp',\n",
    "            'degauss': 0.02\n",
    "             },\n",
    "        'ELECTRONS': {\n",
    "            'diagonalization': 'david',\n",
    "            'mixing_beta': 0.7,\n",
    "            'conv_thr': 1e-7,\n",
    "        },\n",
    "        'IONS': {\n",
    "            'ion_dynamics': 'bfgs'\n",
    "        },\n",
    "        'CELL': {},\n",
    "        })\n",
    "\n",
    "    output_file = run_qe_pwscf(runpath=runpath, struc=struc,  pseudopots=pseudopots,\n",
    "                               params=input_params, kpoints=kpts, ncpu=16)\n",
    "    output = parse_qe_pwscf_output(outfile=output_file)\n",
    "    return output\n",
    "\n",
    "def kpts_scan():\n",
    "    ecut = 30\n",
    "    nk = np.arange(1, 2)\n",
    "    energy=[]\n",
    "    for i in nk:\n",
    "        output = relax_YBCO(ecut=ecut, nk=i)\n",
    "        energy.append(output['energy'])\n",
    "        print(i)\n",
    "    return energy"
   ]
  }
 ],
 "metadata": {
  "kernelspec": {
   "display_name": "Python 3",
   "language": "python",
   "name": "python3"
  },
  "language_info": {
   "codemirror_mode": {
    "name": "ipython",
    "version": 3
   },
   "file_extension": ".py",
   "mimetype": "text/x-python",
   "name": "python",
   "nbconvert_exporter": "python",
   "pygments_lexer": "ipython3",
   "version": "3.8.5"
  }
 },
 "nbformat": 4,
 "nbformat_minor": 4
}
