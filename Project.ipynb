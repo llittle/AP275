{
 "cells": [
  {
   "cell_type": "markdown",
   "metadata": {},
   "source": [
    "# Course project: cleavage plane for Ca doped YBCO"
   ]
  },
  {
   "cell_type": "code",
   "execution_count": 1,
   "metadata": {},
   "outputs": [],
   "source": [
    "import matplotlib.pyplot as plt\n",
    "import numpy as np\n",
    "from pwscf import make_struc_doped, make_struc_undoped, write_inputs, make_cleave_struc_undoped"
   ]
  },
  {
   "cell_type": "markdown",
   "metadata": {},
   "source": [
    "## Cleave Z=2 Relaxed Cell"
   ]
  },
  {
   "cell_type": "code",
   "execution_count": 2,
   "metadata": {},
   "outputs": [],
   "source": [
    "lattice_2_relax = np.array([\n",
    "   [3.888243331,   0.000000000,   0.000000000],\n",
    "   [0.000000000,   3.793282068,   0.000000000],\n",
    "   [0.000000000,   0.000000000,  43.772261683]])\n",
    "\n",
    "symbols_2_relax = ['Ba','Ba','Ba','Ba',\n",
    "           'Y','Y',\n",
    "           'Cu','Cu','Cu','Cu','Cu','Cu','Cu',\n",
    "           'O','O','O','O','O','O','O','O','O','O','O','O','O','O','O']\n",
    "\n",
    "pos_2_relax= np.array([[ 1.9441210480 ,       1.8966418432    ,    9.5363307681],\n",
    "               [ 1.9441210480  ,      1.8966418432    ,   21.2364115021],\n",
    "               [ 1.9441210480   ,     1.8966418432    ,    2.0684219014],\n",
    "               [ 1.9441210480    ,    1.8966418432    ,   13.7685135537],\n",
    "               [ 1.9441210480     ,   1.8966418432    ,    5.8085645285],\n",
    "               [ 1.9441210480      ,  1.8966418432    ,   17.4962566006],\n",
    "               [ 0.0000000000 ,       0.0000000000    ,    7.5500233693],\n",
    "               [ 0.0000000000 ,       0.0000000000    ,   19.2238547829],\n",
    "               [ 0.0000000000 ,       0.0000000000    ,    4.0810351969],\n",
    "               [ 0.0000000000 ,       0.0000000000    ,   15.7549072365],\n",
    "               [ 0.0000000000 ,       0.0000000000    ,    0.0839045299],\n",
    "               [ 0.0000000000 ,       0.0000000000    ,   11.6524888709],\n",
    "               [ 0.0000000000 ,       0.0000000000    ,   23.2208206425],\n",
    "               [ 0.0000000000 ,       1.8966418432    ,   -0.1003135104],\n",
    "               [ 0.0000000000 ,       1.8966418432    ,   11.6524690407],\n",
    "               [ 0.0000000000 ,       1.8966418432    ,   23.4050526932],\n",
    "               [ 1.9441210480 ,       0.0000000000    ,    7.2681752193],\n",
    "               [ 1.9441210480 ,       0.0000000000    ,   18.9572038231],\n",
    "               [ 1.9441210480 ,       0.0000000000    ,    4.3476717804],\n",
    "               [ 1.9441210480 ,       0.0000000000    ,   16.0367037430],\n",
    "               [ 0.0000000000 ,       1.8966418432    ,    7.1922414659],\n",
    "               [ 0.0000000000 ,       1.8966418432    ,   18.9215511152],\n",
    "               [ 0.0000000000 ,       1.8966418432    ,    4.3832718072],\n",
    "               [ 0.0000000000 ,       1.8966418432    ,   16.1125728669],\n",
    "               [ 0.0000000000 ,       0.0000000000    ,    9.7608360006],\n",
    "               [ 0.0000000000 ,       0.0000000000    ,   21.3322842147],\n",
    "               [ 0.0000000000 ,       0.0000000000    ,    1.9725514011],\n",
    "               [ 0.0000000000 ,       0.0000000000    ,   13.544034172]])\n",
    "\n",
    "sort_idx_2_relax = np.argsort(pos_2_relax[:,2])"
   ]
  },
  {
   "cell_type": "code",
   "execution_count": 3,
   "metadata": {},
   "outputs": [
    {
     "name": "stdout",
     "output_type": "stream",
     "text": [
      "MAKING FILE\n",
      "Writing /home/bond/Work/Test/YBCO_Y_cleave_10_sep.in\n"
     ]
    },
    {
     "data": {
      "text/plain": [
       "TextFile {'path': '/home/bond/Work/Test/YBCO_Y_cleave_10_sep.in', 'text': \"&CONTROL\\n    calculation = 'vc-relax'\\n    pseudo_dir = '/n/holyscratch01/hoffman_lab/ruizhe/YBCO_Project/pseudo'\\n    outdir = 'n/holyscratch01/hoffman_lab/ruizhe/outdir'\\n    tstress = .true.\\n    tprnfor = .true.\\n    disk_io = 'none'\\n    nstep = 300\\n    etot_conv_thr = 1e-05\\n    forc_conv_thr = 0.0001\\n/ \\n&SYSTEM\\n    ecutwfc = 60\\n    ecutrho = 720\\n    occupations = 'smearing'\\n    smearing = 'gaussian'\\n    degauss = 0.01\\n    ntyp = 4\\n    nat = 28\\n    ibrav = 0\\n/ \\n&ELECTRONS\\n    diagonalization = 'david'\\n    electron_maxstep = 120\\n    mixing_mode = 'local-TF'\\n    mixing_beta = 0.2\\n    mixing_ndim = 10\\n    conv_thr = 1e-06\\n/ \\n&IONS\\n    ion_dynamics = 'bfgs'\\n/ \\n&CELL\\n    cell_dynamics = 'bfgs'\\n/ \\nK_POINTS {automatic}\\n 8 8 1  0 0 0\\nATOMIC_SPECIES\\n  Ba 137.327 Ba.pbe-nsp-van.UPF\\n  Cu 63.546 Cu.pbe-n-van_ak.UPF\\n  O 15.999 O.pbe-van_ak.UPF\\n  Y 88.90584 Y.pbe-nsp-van.UPF\\nCELL_PARAMETERS {angstrom}\\n 3.888243331 0.0 0.0\\n 0.0 3.793282068 0.0\\n 0.0 0.0 53.772261683\\nATOMIC_POSITIONS {angstrom}\\n  O 0.00000 1.89664 -0.10031\\n  Cu 0.00000 0.00000 0.08390\\n  O 0.00000 0.00000 1.97255\\n  Ba 1.94412 1.89664 2.06842\\n  Cu 0.00000 0.00000 4.08104\\n  O 1.94412 0.00000 4.34767\\n  O 0.00000 1.89664 4.38327\\n  Y 1.94412 1.89664 5.80856\\n  O 0.00000 1.89664 7.19224\\n  O 1.94412 0.00000 7.26818\\n  Cu 0.00000 0.00000 7.55002\\n  Ba 1.94412 1.89664 9.53633\\n  O 0.00000 0.00000 9.76084\\n  O 0.00000 1.89664 11.65247\\n  Cu 0.00000 0.00000 11.65249\\n  O 0.00000 0.00000 13.54403\\n  Ba 1.94412 1.89664 13.76851\\n  Cu 0.00000 0.00000 15.75491\\n  O 1.94412 0.00000 16.03670\\n  O 0.00000 1.89664 16.11257\\n  Y 1.94412 1.89664 17.49626\\n  O 0.00000 1.89664 28.92155\\n  O 1.94412 0.00000 28.95720\\n  Cu 0.00000 0.00000 29.22385\\n  Ba 1.94412 1.89664 31.23641\\n  O 0.00000 0.00000 31.33228\\n  Cu 0.00000 0.00000 33.22082\\n  O 0.00000 1.89664 33.40505\\n\"}"
      ]
     },
     "execution_count": 3,
     "metadata": {},
     "output_type": "execute_result"
    }
   ],
   "source": [
    "[structure, name] = make_cleave_struc_undoped(lattice_2_relax, [symbols_2_relax[idx] for idx in sort_idx_2_relax], \n",
    "                          pos_2_relax[sort_idx_2_relax], 2, cleave_plane = 'Y', separation=10)\n",
    "#print(name)\n",
    "write_inputs(ecut = 60, nkxy = 8, nkz = 1, struc = structure, dirname = name, calc = 'vc-relax')"
   ]
  },
  {
   "cell_type": "code",
   "execution_count": 3,
   "metadata": {},
   "outputs": [
    {
     "name": "stdout",
     "output_type": "stream",
     "text": [
      "MAKING FILE\n",
      "Writing /home/bond/Work/Input_files/YBCO_BaO_cleave_1.0_sep.in\n",
      "MAKING FILE\n",
      "Writing /home/bond/Work/Input_files/YBCO_CuO_cleave_1.0_sep.in\n",
      "MAKING FILE\n",
      "Writing /home/bond/Work/Input_files/YBCO_Y_cleave_1.0_sep.in\n",
      "MAKING FILE\n",
      "Writing /home/bond/Work/Input_files/YBCO_BaO_cleave_2.0_sep.in\n",
      "MAKING FILE\n",
      "Writing /home/bond/Work/Input_files/YBCO_CuO_cleave_2.0_sep.in\n",
      "MAKING FILE\n",
      "Writing /home/bond/Work/Input_files/YBCO_Y_cleave_2.0_sep.in\n",
      "MAKING FILE\n",
      "Writing /home/bond/Work/Input_files/YBCO_BaO_cleave_3.0_sep.in\n",
      "MAKING FILE\n",
      "Writing /home/bond/Work/Input_files/YBCO_CuO_cleave_3.0_sep.in\n",
      "MAKING FILE\n",
      "Writing /home/bond/Work/Input_files/YBCO_Y_cleave_3.0_sep.in\n",
      "MAKING FILE\n",
      "Writing /home/bond/Work/Input_files/YBCO_BaO_cleave_4.0_sep.in\n",
      "MAKING FILE\n",
      "Writing /home/bond/Work/Input_files/YBCO_CuO_cleave_4.0_sep.in\n",
      "MAKING FILE\n",
      "Writing /home/bond/Work/Input_files/YBCO_Y_cleave_4.0_sep.in\n",
      "MAKING FILE\n",
      "Writing /home/bond/Work/Input_files/YBCO_BaO_cleave_5.0_sep.in\n",
      "MAKING FILE\n",
      "Writing /home/bond/Work/Input_files/YBCO_CuO_cleave_5.0_sep.in\n",
      "MAKING FILE\n",
      "Writing /home/bond/Work/Input_files/YBCO_Y_cleave_5.0_sep.in\n",
      "MAKING FILE\n",
      "Writing /home/bond/Work/Input_files/YBCO_BaO_cleave_6.0_sep.in\n",
      "MAKING FILE\n",
      "Writing /home/bond/Work/Input_files/YBCO_CuO_cleave_6.0_sep.in\n",
      "MAKING FILE\n",
      "Writing /home/bond/Work/Input_files/YBCO_Y_cleave_6.0_sep.in\n",
      "MAKING FILE\n",
      "Writing /home/bond/Work/Input_files/YBCO_BaO_cleave_7.0_sep.in\n",
      "MAKING FILE\n",
      "Writing /home/bond/Work/Input_files/YBCO_CuO_cleave_7.0_sep.in\n",
      "MAKING FILE\n",
      "Writing /home/bond/Work/Input_files/YBCO_Y_cleave_7.0_sep.in\n",
      "MAKING FILE\n",
      "Writing /home/bond/Work/Input_files/YBCO_BaO_cleave_8.0_sep.in\n",
      "MAKING FILE\n",
      "Writing /home/bond/Work/Input_files/YBCO_CuO_cleave_8.0_sep.in\n",
      "MAKING FILE\n",
      "Writing /home/bond/Work/Input_files/YBCO_Y_cleave_8.0_sep.in\n"
     ]
    }
   ],
   "source": [
    "separations = np.linspace(1,8,8)\n",
    "for separation in separations:\n",
    "    for cleave_plane in ['BaO','CuO','Y']:\n",
    "        [structure, name] = make_cleave_struc_undoped(lattice_2_relax, [symbols_2_relax[idx] for idx in sort_idx_2_relax], \n",
    "                          pos_2_relax[sort_idx_2_relax], 2, cleave_plane = cleave_plane, separation=separation)\n",
    "        write_inputs(ecut = 60, nkxy = 8, nkz = 1, struc = structure, dirname = name, calc = 'vc-relax')"
   ]
  },
  {
   "cell_type": "markdown",
   "metadata": {},
   "source": [
    "## Relaxed Undoped Z=3"
   ]
  },
  {
   "cell_type": "code",
   "execution_count": 5,
   "metadata": {},
   "outputs": [],
   "source": [
    "lattice_3_relax =np.array([[3.864431295,   0.000016036,  -0.000000526],\n",
    "   [0.000006690,   3.817298207,  -0.000006353],\n",
    "  [-0.000008276,  -0.000093877,  55.034164756]])\n",
    "\n",
    "symbols_3_relax= ['Ba','Ba','Ba','Ba','Ba','Ba',\n",
    "                 'Y','Y','Y',\n",
    "                 'Cu','Cu','Cu','Cu',\n",
    "                  'Cu','Cu','Cu','Cu','Cu','Cu',\n",
    "                 'O','O','O','O','O',\n",
    "                 'O','O','O','O','O',\n",
    "                 'O','O','O','O','O',\n",
    "                 'O','O','O','O','O',\n",
    "                 'O','O']\n",
    "\n",
    "pos_3_relax=np.array([[     1.9679456186   ,     1.9290906912  ,      9.5574650775],\n",
    "        [   1.9792024503     ,   1.9289399376    ,   21.3205595193],\n",
    "        [    1.9521913659    ,    1.9292862521   ,    33.1114652714],\n",
    "        [    1.9521506617    ,    1.9292515200   ,     2.0805219653],\n",
    "        [    1.9791827347    ,    1.9289212038   ,    13.8707544476],\n",
    "        [    1.9679854071    ,    1.9291242361   ,    25.6340937027],\n",
    "        [     1.9554360864   ,     1.9291653018  ,      5.8391444224],\n",
    "        [     1.9710999057   ,     1.9288623791  ,     17.5956280181],\n",
    "        [     1.9554844916   ,     1.9291913903  ,     29.3526520398],\n",
    "        [    0.0290459267    ,    0.0204755144   ,     7.5728170661],\n",
    "        [    0.0426813668    ,    0.0201946470   ,    19.3373313559],\n",
    "        [    0.0215634996    ,    0.0205710675   ,    31.0822157956],\n",
    "        [    0.0215186020    ,    0.0205492854   ,     4.1097078606],\n",
    "        [    0.0426801815    ,    0.0201852713   ,    15.8539162263],\n",
    "        [    0.0290937929    ,    0.0205057344   ,    27.6189077760],\n",
    "        [    0.0210617219    ,    0.0206344626   ,     0.1095296715],\n",
    "        [   -0.0279921326    ,    0.0202712702   ,    11.7101428574],\n",
    "        [   -0.0280618883    ,    0.0203058530   ,    23.4812697780],\n",
    "        [    0.0211352185    ,    0.0206727862   ,    35.0825922110],\n",
    "        [     0.0228984827   ,     1.9294118661  ,     -0.0391675108],\n",
    "        [    -0.3302243943   ,     1.9289440511  ,     11.7085955828],\n",
    "        [    -0.3304193626   ,     1.9289780916  ,     23.4828564845],\n",
    "        [     0.0230047179   ,     1.9294591623  ,     35.2313082573],\n",
    "        [     1.9603774394   ,     0.0206611310  ,      7.2829150360],\n",
    "        [     1.9737812853   ,     0.0203590425  ,     19.0445794566],\n",
    "        [     1.9537731333   ,     0.0207446927  ,     30.8033906594],\n",
    "        [     1.9537248395   ,     0.0207186986  ,      4.3884619974],\n",
    "        [     1.9737764867   ,     0.0203546058  ,     16.1466631759],\n",
    "        [     1.9604194345   ,     0.0206891967  ,     27.9088452228],\n",
    "        [     0.0223443427   ,     1.9291373377  ,      7.2466228150],\n",
    "        [     0.0366303639   ,     1.9288688990  ,     19.0178774317],\n",
    "        [     0.0221386910   ,     1.9292540261  ,     30.7878462581],\n",
    "        [     0.0220866250   ,     1.9292313099  ,      4.4039980222],\n",
    "        [     0.0366253134   ,     1.9288598837  ,     16.1733876733],\n",
    "        [     0.0223902874   ,     1.9291697792  ,     27.9451323883],\n",
    "        [     0.0812074626   ,     0.0204115869  ,      9.8244602123],\n",
    "        [     0.0880851621   ,     0.0203556304  ,     21.5976783934],\n",
    "        [     0.0199638079   ,     0.0206595764  ,     33.1962554542],\n",
    "        [     0.0199442882   ,     0.0206341296  ,      1.9958799634],\n",
    "        [     0.0881155600   ,     0.0203269321  ,     13.5937005745],\n",
    "        [    0.0812258362    ,    0.0204542060   ,    25.3669848023]])\n",
    "\n",
    "sort_idx_3_relax = np.argsort(pos_3_relax[:,2])"
   ]
  },
  {
   "cell_type": "code",
   "execution_count": 6,
   "metadata": {},
   "outputs": [],
   "source": [
    "separations = np.linspace(1,6,6)\n",
    "for separation in separations:\n",
    "    for cleave_plane in ['BaO','CuO','Y']:\n",
    "        make_cleave_struc_undoped(lattice_3_relax, [symbols_3_relax[idx] for idx in sort_idx_3_relax], \n",
    "                          pos_3_relax[sort_idx_3_relax], 3, cleave_plane = cleave_plane, separation=separation)\n",
    "        ##make the input file"
   ]
  },
  {
   "cell_type": "markdown",
   "metadata": {},
   "source": [
    "## Z Test"
   ]
  },
  {
   "cell_type": "markdown",
   "metadata": {},
   "source": [
    "Make input files (from z-1 to z-4)"
   ]
  },
  {
   "cell_type": "code",
   "execution_count": 5,
   "metadata": {},
   "outputs": [
    {
     "name": "stdout",
     "output_type": "stream",
     "text": [
      "MAKING FILE\n",
      "Writing LL_test/YBCO_conv_111_40vac_NOcleave_0sep_vc-relax.in\n",
      "MAKING FILE\n",
      "Writing LL_test/YBCO_conv_112_40vac_NOcleave_0sep_vc-relax.in\n",
      "MAKING FILE\n",
      "Writing LL_test/YBCO_conv_113_40vac_NOcleave_0sep_vc-relax.in\n",
      "MAKING FILE\n",
      "Writing LL_test/YBCO_conv_114_40vac_NOcleave_0sep_vc-relax.in\n"
     ]
    }
   ],
   "source": [
    "zs = np.arange(1,5)\n",
    "for z in zs:\n",
    "    [struc, struc_name] = make_struc_undoped(nxy = 1, nz = z, vacuum = 40)\n",
    "    infile = write_inputs(struc = struc, dirname = 'LL_test', name = struc_name, calc = 'vc-relax')"
   ]
  },
  {
   "cell_type": "markdown",
   "metadata": {},
   "source": [
    "## Separation Test"
   ]
  },
  {
   "cell_type": "code",
   "execution_count": 4,
   "metadata": {},
   "outputs": [],
   "source": [
    "separation = 10\n",
    "nz=3\n",
    "\n",
    "a=make_struc_undoped(vacuum = 20, nz = nz, separation = separation, cleave_plane = 'Y', nxy= 2)\n",
    "a=make_struc_undoped(vacuum = 20, nz = nz, separation = separation, cleave_plane = 'BaO')\n",
    "a=make_struc_undoped(vacuum = 20, nz = nz, separation = separation, cleave_plane = 'CuO')"
   ]
  },
  {
   "cell_type": "markdown",
   "metadata": {},
   "source": [
    "## Make Doped Cell"
   ]
  },
  {
   "cell_type": "code",
   "execution_count": 5,
   "metadata": {},
   "outputs": [
    {
     "name": "stdout",
     "output_type": "stream",
     "text": [
      "MAKING FILE\n",
      "Writing /home/bond/Work/Input_files/dYBCO_rt2_111_0vac_NOcleave_0sep.in\n"
     ]
    }
   ],
   "source": [
    "[struc, struc_name]= make_struc_doped(nz = 1, slab=False)\n",
    "infile = write_inputs(struc = struc, dirname = struc_name, calc = 'vc-relax')"
   ]
  },
  {
   "cell_type": "code",
   "execution_count": 3,
   "metadata": {},
   "outputs": [
    {
     "data": {
      "text/plain": [
       "'dYBCO_rt2_111_0vac_NOcleave_0sep'"
      ]
     },
     "execution_count": 3,
     "metadata": {},
     "output_type": "execute_result"
    }
   ],
   "source": [
    "struc_name"
   ]
  },
  {
   "cell_type": "markdown",
   "metadata": {},
   "source": [
    "## Doped Separation Test"
   ]
  },
  {
   "cell_type": "markdown",
   "metadata": {},
   "source": [
    "To make the cleaving plane on the doped sample I will need to sort all of the atoms by z height first, since they are not currently sorted within the 2xrt(2) supercell.\n",
    "\n",
    "Maybe get atoms, sort by z, return indexes, sort chemical symbols by same indexes, then count up how many planes should be included for each cleaving."
   ]
  },
  {
   "cell_type": "code",
   "execution_count": 48,
   "metadata": {},
   "outputs": [],
   "source": [
    "nxy=1\n",
    "nz = 1\n",
    "alat=3.82 \n",
    "blat=3.89 \n",
    "clat=11.68\n",
    "vacuum=0\n",
    "cleave_plane='NO'\n",
    "separation=0\n",
    "slab = True\n",
    "\n",
    "a = numpy.sqrt(alat**2 + blat**2)\n",
    "lattice = numpy.array([[a,0,0],[0,a,0],[0,0,clat]])\n",
    "symbols = ['Cu', 'Cu', 'O', 'O',\n",
    "           'O','O','Ba', 'Ba',\n",
    "           'Cu', 'Cu', 'O', 'O', 'O', 'O',\n",
    "           'Y', 'Y',\n",
    "           'O', 'O', 'O', 'O' ,'Cu', 'Cu',\n",
    "           'Ba', 'Ba', 'O', 'O']\n",
    "sc_pos = [[0,0,0], #Cu\n",
    "          [0.5,0.5,0], #Cu\n",
    "          [0.25,0.25,0], #O\n",
    "          [0.75,0.75,0], #O\n",
    "          [0,0,0.15918], #O\n",
    "          [0.5,0.5,0.15918], #O\n",
    "          [0.5, 0, 0.18061], #Ba\n",
    "          [0, 0.5, 0.18061], #Ba\n",
    "          [0,0,0.35332], #Cu\n",
    "          [0.5,0.5,0.35332], #Cu\n",
    "          [0.25,0.25,0.37835], #O\n",
    "          [0.75,0.75,0.37835], #O\n",
    "          [0.25,0.75,0.37935], #O\n",
    "          [0.75,0.25,0.37935], #O\n",
    "          [0.5,0,0.5], #Y\n",
    "          [0,0.5,0.5], #Y\n",
    "          [0.25,0.25,0.62065], #O\n",
    "          [0.75,0.75,0.62065], #O\n",
    "          [0.25,0.75,0.62165], #O\n",
    "          [0.75,0.25,0.62165], #O\n",
    "          [0,0,0.64668], #Cu\n",
    "          [0.5,0.5,0.64668], #Cu\n",
    "          [0.5, 0, 0.81939], #Ba\n",
    "          [0, 0.5, 0.81939], #Ba\n",
    "          [0,0,0.84082], #O\n",
    "          [0.5,0.5,0.84082] #O\n",
    "         ]\n",
    "YBCO = Atoms(symbols=symbols, scaled_positions=sc_pos, cell=lattice)\n",
    "\n",
    "#make an x/y supercell of 2 and dope 1/8 Y --> Ca\n",
    "multiplier = numpy.identity(3)\n",
    "multiplier[0,0]=2\n",
    "multiplier[1,1]=2\n",
    "supercell = make_supercell(YBCO, multiplier)\n",
    "\n",
    "temp_sym = supercell.get_chemical_symbols()\n",
    "temp_sym[15] = 'Ca'\n",
    "supercell.set_chemical_symbols(temp_sym)\n",
    "    \n",
    "\n",
    "#make the supercell of the 2rt(2) doped supercell in the z direction\n",
    "multiplier = numpy.identity(3)\n",
    "multiplier[2,2]=nz\n",
    "supercell = make_supercell(supercell, multiplier)\n",
    "\n",
    "#sort the atoms so cleave plane can easily be determined\n",
    "pos = supercell.get_positions()\n",
    "sym = supercell.get_chemical_symbols()\n",
    "args = numpy.argsort(pos[:,2])\n",
    "supercell.set_positions(pos[args])\n",
    "supercell.set_chemical_symbols([sym[j] for j in args])\n",
    "\n",
    "\n",
    "if slab:\n",
    "    #make the position of the 'capping' layer\n",
    "    Cu_layer = Atoms(symbols = ['Cu', 'Cu', 'O', 'O'], \n",
    "                     scaled_positions = [[0.0,0.0, 0.0],\n",
    "                                  [0.5,0.5,0],\n",
    "                                  [0.25,0.25,0], \n",
    "                                  [0.75,0.75,0]],\n",
    "                   cell = numpy.array([[a,0,0],[0,a,0],[0,0,clat]]))\n",
    "    #make a supercell of the capping layer\n",
    "    multiplier = numpy.identity(3)\n",
    "    multiplier[0,0]=2\n",
    "    multiplier[1,1]=2\n",
    "    Cu_layer = make_supercell(Cu_layer, multiplier)\n",
    "\n",
    "    #cap the unit cell\n",
    "    supercell = stack(supercell, Cu_layer)\n",
    "\n",
    "    #add vacuum\n",
    "    add_vacuum(supercell, vacuum)\n",
    "\n",
    "#find the plane to cleave on (closest to the middle)\n",
    "    if cleave_plane == 'CuO':\n",
    "        split = int(nz/2)*104 + 16\n",
    "        \n",
    "    elif cleave_plane == \"BaO\":\n",
    "        split = int(nz/2)*104 + 32\n",
    "        \n",
    "    elif cleave_plane == \"Y\":\n",
    "        split = int(nz/2)*104 + 64\n",
    "    \n",
    "    if cleave_plane != \"NO\":\n",
    "        temp_pos = supercell.get_positions()\n",
    "        temp_pos[split:,2] += separation #add separation in z to all atoms after cleave plane\n",
    "        supercell.set_positions(temp_pos)\n",
    "        temp_cell = supercell.get_cell()\n",
    "        temp_cell[2][2] += separation #add separation to cell height so vacuum is unchanged\n",
    "        supercell.set_cell(temp_cell)\n",
    "        \n",
    "#make the supercell of the 2rt(2) doped supercell in x/y\n",
    "multiplier = numpy.identity(3)\n",
    "multiplier[0,0]=nxy\n",
    "multiplier[1,1]=nxy\n",
    "supercell = make_supercell(supercell, multiplier)\n",
    "\n",
    "#output to cif\n",
    "name = f'YBCO_rt2_{nxy}{nxy}{nz}_{vacuum}vac_{cleave_plane}cleave_{separation}sep'\n",
    "write(f'{name}.cif', supercell)"
   ]
  },
  {
   "cell_type": "markdown",
   "metadata": {},
   "source": [
    "# FIx Doped CU"
   ]
  },
  {
   "cell_type": "code",
   "execution_count": 7,
   "metadata": {},
   "outputs": [],
   "source": [
    "import os, copy, numpy\n",
    "from labutil.objects import TextFile, ExternalCode, File, Param, Struc, ase2struc, Dir, Kpoints, PseudoPotential\n",
    "from labutil.util import prepare_dir, run_command\n",
    "from ase.spacegroup import crystal\n",
    "from ase.io import write\n",
    "from ase.build import bulk, make_supercell, add_vacuum, stack\n",
    "from ase import Atoms\n",
    "\n",
    "def make_struc_doped(nxy=1, nz = 2, alat=3.78, blat=3.88, clat=11.68, vacuum=0, cleave_plane='NO',\n",
    "                         separation=0, slab = True):\n",
    "    \"\"\"\n",
    "    Creates the crystal structure using ASE and saves to a cif file. Constructs a root2xroot2 YBCO structure\n",
    "    with 1/8 Y --> Ca doping\n",
    "    nxy, nz: unit cell dimensions follow  nxy *2root 2, nxy* 2root 2, nz \n",
    "    alat, blat, clat: conventianal (NOT root2) lattice parameters\n",
    "    vacuum: vacuum spacing between slabs\n",
    "    cleave_plane: Not yet implemented\n",
    "    separation: not yet implemented\n",
    "    slab: if true add a CuO capping layer\n",
    "    :return: structure object converted from ase\n",
    "    \n",
    "    Slab will be 'capped' with a CuO layer (will not make sense in bulk) \"\"\"\n",
    "    \n",
    "    a = numpy.sqrt(alat**2 + blat**2)\n",
    "    lattice = numpy.array([[-alat,blat,0],[alat,blat,0],[0,0,clat]])\n",
    "    symbols = ['Cu', 'Cu', 'O', 'O',\n",
    "               'O','O','Ba', 'Ba',\n",
    "               'Cu', 'Cu', 'O', 'O', 'O', 'O',\n",
    "               'Y', 'Y',\n",
    "               'O', 'O', 'O', 'O' ,'Cu', 'Cu',\n",
    "               'Ba', 'Ba', 'O', 'O']\n",
    "    sc_pos = [[0,0,0], #Cu\n",
    "              [0.5,0.5,0], #Cu\n",
    "              [0.25,0.25,0], #O\n",
    "              [0.75,0.75,0], #O\n",
    "              [0,0,0.15918], #O\n",
    "              [0.5,0.5,0.15918], #O\n",
    "              [0.5, 0, 0.18061], #Ba\n",
    "              [0, 0.5, 0.18061], #Ba\n",
    "              [0,0,0.35332], #Cu\n",
    "              [0.5,0.5,0.35332], #Cu\n",
    "              [0.25,0.25,0.37835], #O\n",
    "              [0.75,0.75,0.37835], #O\n",
    "              [0.25,0.75,0.37935], #O\n",
    "              [0.75,0.25,0.37935], #O\n",
    "              [0.5,0,0.5], #Y\n",
    "              [0,0.5,0.5], #Y\n",
    "              [0.25,0.25,0.62065], #O\n",
    "              [0.75,0.75,0.62065], #O\n",
    "              [0.25,0.75,0.62165], #O\n",
    "              [0.75,0.25,0.62165], #O\n",
    "              [0,0,0.64668], #Cu\n",
    "              [0.5,0.5,0.64668], #Cu\n",
    "              [0.5, 0, 0.81939], #Ba\n",
    "              [0, 0.5, 0.81939], #Ba\n",
    "              [0,0,0.84082], #O\n",
    "              [0.5,0.5,0.84082] #O\n",
    "             ]\n",
    "    YBCO = Atoms(symbols=symbols, scaled_positions=sc_pos, cell=lattice)\n",
    "    \n",
    "    #make an x/y supercell of 2 and dope 1/8 Y --> Ca\n",
    "    multiplier = numpy.identity(3)\n",
    "    multiplier[0,0]=2\n",
    "    multiplier[1,1]=2\n",
    "    supercell = make_supercell(YBCO, multiplier)\n",
    "    \n",
    "    temp_sym = supercell.get_chemical_symbols()\n",
    "    temp_sym[15] = 'Ca'\n",
    "    supercell.set_chemical_symbols(temp_sym)\n",
    "    \n",
    "    #make the supercell of the 2rt(2) doped supercell\n",
    "    multiplier = numpy.identity(3)\n",
    "    multiplier[0,0]=nxy\n",
    "    multiplier[1,1]=nxy\n",
    "    multiplier[2,2]=nz\n",
    "    supercell = make_supercell(supercell, multiplier)\n",
    "    \n",
    "    \n",
    "    if slab:\n",
    "        #make the position of the 'capping' layer\n",
    "        Cu_layer = Atoms(symbols = ['Cu', 'Cu', 'O', 'O'], \n",
    "                         scaled_positions = [[0.0,0.0, 0.0],\n",
    "                                      [0.5,0.5,0],\n",
    "                                      [0.25,0.25,0], \n",
    "                                      [0.75,0.75,0]],\n",
    "                       cell = numpy.array([[a,0,0],[0,a,0],[0,0,clat]]))\n",
    "        #make a supercell of the capping layer\n",
    "        multiplier = numpy.identity(3)\n",
    "        multiplier[0,0]=nxy*2\n",
    "        multiplier[1,1]=nxy*2\n",
    "        Cu_layer = make_supercell(Cu_layer, multiplier)\n",
    "\n",
    "        #cap the unit cell\n",
    "        supercell = stack(supercell, Cu_layer)\n",
    "\n",
    "        #add vacuum\n",
    "        add_vacuum(supercell, vacuum)\n",
    "    \n",
    "    #output to cif\n",
    "    name = f'dYBCO_rt2_{nxy}{nxy}{nz}_{vacuum}vac_{cleave_plane}cleave_{separation}sep'\n",
    "    write(f'{name}.cif', supercell)\n",
    "    structure = Struc(ase2struc(supercell))\n",
    "    \n",
    "    return [structure, name]"
   ]
  },
  {
   "cell_type": "code",
   "execution_count": 8,
   "metadata": {},
   "outputs": [
    {
     "name": "stdout",
     "output_type": "stream",
     "text": [
      "MAKING FILE\n",
      "Writing /home/bond/Work/Input_files/dYBCO_rt2_111_0vac_NOcleave_0sep.in\n"
     ]
    }
   ],
   "source": [
    "[struc, struc_name]= make_struc_doped(nz = 1, slab=False)\n",
    "infile = write_inputs(struc = struc, dirname = struc_name, calc = 'vc-relax')"
   ]
  },
  {
   "cell_type": "markdown",
   "metadata": {},
   "source": [
    "# Inital relax calculation (RUNS A CALC)"
   ]
  },
  {
   "cell_type": "code",
   "execution_count": null,
   "metadata": {},
   "outputs": [],
   "source": [
    "def relax_YBCO(nk, ecut):\n",
    "    pseudopots = {'Y': PseudoPotential(ptype='uspp', element='Y', functional='LDA', name='Y.pz-spn-rrkjus_psl.1.0.0.UPF'),\n",
    "                  'Ba': PseudoPotential(ptype='uspp', element='Ba', functional='LDA', name='Ba.pz-spn-rrkjus_psl.1.0.0.UPF'),\n",
    "                  'Cu': PseudoPotential(ptype='uspp', element='Cu', functional='LDA', name='Cu.pz-d-rrkjus.UPF'),\n",
    "                  'O': PseudoPotential(ptype='uspp', element='O', functional='LDA', name='O.pz-rrkjus.UPF')}\n",
    "    struc = make_struc_non_doped()\n",
    "    kpts = Kpoints(gridsize=[nk, nk, nk], option='automatic', offset=True)\n",
    "    dirname = 'YBCO_relax_ecut_{}_nk_{}'.format(ecut, nk)\n",
    "    runpath = Dir(path=os.path.join(os.environ['WORKDIR'], \"Project\", dirname))\n",
    "    input_params = PWscf_inparam({\n",
    "        'CONTROL': {\n",
    "            'calculation': 'relax',\n",
    "            'pseudo_dir': os.environ['QE_POTENTIALS'],\n",
    "            'outdir': runpath.path,\n",
    "            'tstress': True,\n",
    "            'tprnfor': True,\n",
    "            'disk_io': 'none'\n",
    "        },\n",
    "        'SYSTEM': {\n",
    "            'ecutwfc': ecut,\n",
    "            'ecutrho': ecut * 12,\n",
    "            'occupations': 'smearing',\n",
    "            'smearing': 'mp',\n",
    "            'degauss': 0.02\n",
    "             },\n",
    "        'ELECTRONS': {\n",
    "            'diagonalization': 'david',\n",
    "            'mixing_beta': 0.7,\n",
    "            'conv_thr': 1e-7,\n",
    "        },\n",
    "        'IONS': {\n",
    "            'ion_dynamics': 'bfgs'\n",
    "        },\n",
    "        'CELL': {},\n",
    "        })\n",
    "\n",
    "    output_file = run_qe_pwscf(runpath=runpath, struc=struc,  pseudopots=pseudopots,\n",
    "                               params=input_params, kpoints=kpts, ncpu=16)\n",
    "    output = parse_qe_pwscf_output(outfile=output_file)\n",
    "    return output\n",
    "\n",
    "def kpts_scan():\n",
    "    ecut = 30\n",
    "    nk = np.arange(1, 2)\n",
    "    energy=[]\n",
    "    for i in nk:\n",
    "        output = relax_YBCO(ecut=ecut, nk=i)\n",
    "        energy.append(output['energy'])\n",
    "        print(i)\n",
    "    return energy"
   ]
  }
 ],
 "metadata": {
  "kernelspec": {
   "display_name": "Python 3",
   "language": "python",
   "name": "python3"
  },
  "language_info": {
   "codemirror_mode": {
    "name": "ipython",
    "version": 3
   },
   "file_extension": ".py",
   "mimetype": "text/x-python",
   "name": "python",
   "nbconvert_exporter": "python",
   "pygments_lexer": "ipython3",
   "version": "3.8.5"
  }
 },
 "nbformat": 4,
 "nbformat_minor": 4
}
