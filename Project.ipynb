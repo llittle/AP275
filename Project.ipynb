{
 "cells": [
  {
   "cell_type": "markdown",
   "metadata": {},
   "source": [
    "# Course project: cleavage plane for Ca doped YBCO"
   ]
  },
  {
   "cell_type": "code",
   "execution_count": 27,
   "metadata": {},
   "outputs": [],
   "source": [
    "import numpy as np, os\n",
    "import matplotlib.pyplot as plt\n",
    "from pwscf import write_pwscf_input\n",
    "from labutil.plugins.pwscf import run_qe_pwscf, PWscf_inparam, parse_qe_pwscf_output\n",
    "from labutil.objects import Struc, Dir, ase2struc, Kpoints, PseudoPotential\n",
    "from ase.spacegroup import crystal\n",
    "from ase.io import write\n",
    "from ase.build import bulk, make_supercell, add_vacuum\n",
    "from ase import Atoms\n",
    "import numpy, os, copy\n",
    "from labutil.objects import TextFile, ExternalCode, File, Param\n",
    "from labutil.util import prepare_dir, run_command"
   ]
  },
  {
   "cell_type": "markdown",
   "metadata": {},
   "source": [
    "Make a structure from standard cell lattice parameters."
   ]
  },
  {
   "cell_type": "code",
   "execution_count": 46,
   "metadata": {},
   "outputs": [],
   "source": [
    "def make_struc_non_doped(nxy=1, nz = 2, alat=3.82, blat=3.89, clat=11.68, vacuum=0, cleave_plane='NO',\n",
    "                         separation=0):\n",
    "    \"\"\"\n",
    "    Creates the crystal structure using ASE.\n",
    "    :param alat: Lattice parameter in angstrom\n",
    "    :return: structure object converted from ase\n",
    "    \"\"\"\n",
    "    a = np.sqrt(alat**2 + blat**2)\n",
    "    lattice = np.array([[a,0,0],[0,a,0],[0,0,clat]])\n",
    "    symbols = ['Y', 'Y', 'Ba', 'Ba', 'Ba', 'Ba', 'Cu', 'Cu', 'Cu', 'Cu', 'Cu', 'Cu','O', 'O', 'O','O','O','O','O','O','O','O','O','O','O','O',]\n",
    "    sc_pos = [[0.5,0,0.5], [0,0.5,0.5], \n",
    "              [0.5, 0, 0.81939], [0, 0.5, 0.81939], [0.5, 0, 0.18061], [0, 0.5, 0.18061],\n",
    "              [0,0,0], [0.5,0.5,0], [0,0,0.64668], [0.5,0.5,0.64668], [0,0,0.35332], [0.5,0.5,0.35332],\n",
    "              [0.25,0.25,0], [0.75,0.75,0], [0,0,0.15918], [0.5,0.5,0.15918], [0.25,0.25,0.37835], [0.75,0.75,0.37835],[0.25,0.75,0.37935], [0.75,0.25,0.37935], [0.25,0.25,0.62065], [0.75,0.75,0.62065],[0.25,0.75,0.62165], [0.75,0.25,0.62165], [0,0,0.84082], [0.5,0.5,0.84082]\n",
    "             ]\n",
    "    YBCO = Atoms(symbols=symbols, scaled_positions=sc_pos, cell=lattice)\n",
    "    multiplier = np.identity(3)\n",
    "    multiplier[0,0]=nxy\n",
    "    multiplier[1,1]=nxy\n",
    "    multiplier[2,2]=nz\n",
    "    supercell = make_supercell(YBCO, multiplier)\n",
    "    add_vacuum(supercell, vacuum)\n",
    "    write(f'YBCO_{nxy}{nxy}{nz}_{vacuum}vac_{cleave_plane}cleave_{separation}sep.cif', supercell)\n",
    "    structure = Struc(ase2struc(supercell))\n",
    "    return structure"
   ]
  },
  {
   "cell_type": "code",
   "execution_count": 49,
   "metadata": {},
   "outputs": [],
   "source": [
    "struc = make_struc_non_doped(nxy = 1, nz = 3, vacuum = 40)"
   ]
  },
  {
   "cell_type": "code",
   "execution_count": 20,
   "metadata": {},
   "outputs": [
    {
     "data": {
      "text/plain": [
       "Struc {'cell': [[5.452017975025394, 0.0, 0.0], [0.0, 5.452017975025394, 0.0], [0.0, 0.0, 35.04]], 'positions': [['Y', [2.726008987512697, 0.0, 5.84]], ['Y', [0.0, 2.726008987512697, 5.84]], ['Ba', [2.726008987512697, 0.0, 9.570475199999999]], ['Ba', [0.0, 2.726008987512697, 9.570475199999999]], ['Ba', [2.726008987512697, 0.0, 2.1095248]], ['Ba', [0.0, 2.726008987512697, 2.1095248]], ['Cu', [0.0, 0.0, 0.0]], ['Cu', [2.726008987512697, 2.726008987512697, 0.0]], ['Cu', [0.0, 0.0, 7.5532224]], ['Cu', [2.726008987512697, 2.726008987512697, 7.5532224]], ['Cu', [0.0, 0.0, 4.1267776000000005]], ['Cu', [2.726008987512697, 2.726008987512697, 4.1267776000000005]], ['O', [1.3630044937563486, 1.3630044937563486, 0.0]], ['O', [4.0890134812690455, 4.0890134812690455, 0.0]], ['O', [0.0, 0.0, 1.8592223999999997]], ['O', [2.726008987512697, 2.726008987512697, 1.8592223999999997]], ['O', [1.3630044937563486, 1.3630044937563486, 4.419128]], ['O', [4.0890134812690455, 4.0890134812690455, 4.419128]], ['O', [1.3630044937563486, 4.0890134812690455, 4.430808]], ['O', [4.0890134812690455, 1.3630044937563486, 4.430808]], ['O', [1.3630044937563486, 1.3630044937563486, 7.249192]], ['O', [4.0890134812690455, 4.0890134812690455, 7.249192]], ['O', [1.3630044937563486, 4.0890134812690455, 7.260872]], ['O', [4.0890134812690455, 1.3630044937563486, 7.260872]], ['O', [0.0, 0.0, 9.8207776]], ['O', [2.726008987512697, 2.726008987512697, 9.8207776]], ['Y', [2.726008987512697, 0.0, 17.52]], ['Y', [0.0, 2.726008987512697, 17.52]], ['Ba', [2.726008987512697, 0.0, 21.250475199999997]], ['Ba', [0.0, 2.726008987512697, 21.250475199999997]], ['Ba', [2.726008987512697, 0.0, 13.789524799999999]], ['Ba', [0.0, 2.726008987512697, 13.789524799999999]], ['Cu', [0.0, 0.0, 11.68]], ['Cu', [2.726008987512697, 2.726008987512697, 11.68]], ['Cu', [0.0, 0.0, 19.2332224]], ['Cu', [2.726008987512697, 2.726008987512697, 19.2332224]], ['Cu', [0.0, 0.0, 15.806777599999998]], ['Cu', [2.726008987512697, 2.726008987512697, 15.806777599999998]], ['O', [1.3630044937563486, 1.3630044937563486, 11.68]], ['O', [4.0890134812690455, 4.0890134812690455, 11.68]], ['O', [0.0, 0.0, 13.539222400000002]], ['O', [2.726008987512697, 2.726008987512697, 13.539222400000002]], ['O', [1.3630044937563486, 1.3630044937563486, 16.099128]], ['O', [4.0890134812690455, 4.0890134812690455, 16.099128]], ['O', [1.3630044937563486, 4.0890134812690455, 16.110808]], ['O', [4.0890134812690455, 1.3630044937563486, 16.110808]], ['O', [1.3630044937563486, 1.3630044937563486, 18.929192]], ['O', [4.0890134812690455, 4.0890134812690455, 18.929192]], ['O', [1.3630044937563486, 4.0890134812690455, 18.940872]], ['O', [4.0890134812690455, 1.3630044937563486, 18.940872]], ['O', [0.0, 0.0, 21.5007776]], ['O', [2.726008987512697, 2.726008987512697, 21.5007776]], ['Y', [2.726008987512697, 0.0, 29.2]], ['Y', [0.0, 2.726008987512697, 29.2]], ['Ba', [2.726008987512697, 0.0, 32.9304752]], ['Ba', [0.0, 2.726008987512697, 32.9304752]], ['Ba', [2.726008987512697, 0.0, 25.4695248]], ['Ba', [0.0, 2.726008987512697, 25.4695248]], ['Cu', [0.0, 0.0, 23.36]], ['Cu', [2.726008987512697, 2.726008987512697, 23.36]], ['Cu', [0.0, 0.0, 30.9132224]], ['Cu', [2.726008987512697, 2.726008987512697, 30.9132224]], ['Cu', [0.0, 0.0, 27.4867776]], ['Cu', [2.726008987512697, 2.726008987512697, 27.4867776]], ['O', [1.3630044937563486, 1.3630044937563486, 23.36]], ['O', [4.0890134812690455, 4.0890134812690455, 23.36]], ['O', [0.0, 0.0, 25.2192224]], ['O', [2.726008987512697, 2.726008987512697, 25.2192224]], ['O', [1.3630044937563486, 1.3630044937563486, 27.779128]], ['O', [4.0890134812690455, 4.0890134812690455, 27.779128]], ['O', [1.3630044937563486, 4.0890134812690455, 27.790808000000002]], ['O', [4.0890134812690455, 1.3630044937563486, 27.790808000000002]], ['O', [1.3630044937563486, 1.3630044937563486, 30.609192]], ['O', [4.0890134812690455, 4.0890134812690455, 30.609192]], ['O', [1.3630044937563486, 4.0890134812690455, 30.620872]], ['O', [4.0890134812690455, 1.3630044937563486, 30.620872]], ['O', [0.0, 0.0, 33.1807776]], ['O', [2.726008987512697, 2.726008987512697, 33.1807776]]], 'periodicity': [False, False, False], 'species': {'Ba': {'mass': 137.327, 'kind': 1}, 'Cu': {'mass': 63.546, 'kind': 2}, 'O': {'mass': 15.999, 'kind': 3}, 'Y': {'mass': 88.90584, 'kind': 4}}}"
      ]
     },
     "execution_count": 20,
     "metadata": {},
     "output_type": "execute_result"
    }
   ],
   "source": []
  },
  {
   "cell_type": "markdown",
   "metadata": {},
   "source": [
    "Inital relax calculation (RUNS A CALC)"
   ]
  },
  {
   "cell_type": "code",
   "execution_count": null,
   "metadata": {},
   "outputs": [],
   "source": [
    "def relax_YBCO(nk, ecut):\n",
    "    pseudopots = {'Y': PseudoPotential(ptype='uspp', element='Y', functional='LDA', name='Y.pz-spn-rrkjus_psl.1.0.0.UPF'),\n",
    "                  'Ba': PseudoPotential(ptype='uspp', element='Ba', functional='LDA', name='Ba.pz-spn-rrkjus_psl.1.0.0.UPF'),\n",
    "                  'Cu': PseudoPotential(ptype='uspp', element='Cu', functional='LDA', name='Cu.pz-d-rrkjus.UPF'),\n",
    "                  'O': PseudoPotential(ptype='uspp', element='O', functional='LDA', name='O.pz-rrkjus.UPF')}\n",
    "    struc = make_struc_non_doped()\n",
    "    kpts = Kpoints(gridsize=[nk, nk, nk], option='automatic', offset=True)\n",
    "    dirname = 'YBCO_relax_ecut_{}_nk_{}'.format(ecut, nk)\n",
    "    runpath = Dir(path=os.path.join(os.environ['WORKDIR'], \"Project\", dirname))\n",
    "    input_params = PWscf_inparam({\n",
    "        'CONTROL': {\n",
    "            'calculation': 'relax',\n",
    "            'pseudo_dir': os.environ['QE_POTENTIALS'],\n",
    "            'outdir': runpath.path,\n",
    "            'tstress': True,\n",
    "            'tprnfor': True,\n",
    "            'disk_io': 'none'\n",
    "        },\n",
    "        'SYSTEM': {\n",
    "            'ecutwfc': ecut,\n",
    "            'ecutrho': ecut * 12,\n",
    "            'occupations': 'smearing',\n",
    "            'smearing': 'mp',\n",
    "            'degauss': 0.02\n",
    "             },\n",
    "        'ELECTRONS': {\n",
    "            'diagonalization': 'david',\n",
    "            'mixing_beta': 0.7,\n",
    "            'conv_thr': 1e-7,\n",
    "        },\n",
    "        'IONS': {\n",
    "            'ion_dynamics': 'bfgs'\n",
    "        },\n",
    "        'CELL': {},\n",
    "        })\n",
    "\n",
    "    output_file = run_qe_pwscf(runpath=runpath, struc=struc,  pseudopots=pseudopots,\n",
    "                               params=input_params, kpoints=kpts, ncpu=16)\n",
    "    output = parse_qe_pwscf_output(outfile=output_file)\n",
    "    return output\n",
    "\n",
    "def kpts_scan():\n",
    "    ecut = 30\n",
    "    nk = np.arange(1, 2)\n",
    "    energy=[]\n",
    "    for i in nk:\n",
    "        output = relax_YBCO(ecut=ecut, nk=i)\n",
    "        energy.append(output['energy'])\n",
    "        print(i)\n",
    "    return energy"
   ]
  },
  {
   "cell_type": "code",
   "execution_count": null,
   "metadata": {},
   "outputs": [],
   "source": []
  }
 ],
 "metadata": {
  "kernelspec": {
   "display_name": "Python 3",
   "language": "python",
   "name": "python3"
  },
  "language_info": {
   "codemirror_mode": {
    "name": "ipython",
    "version": 3
   },
   "file_extension": ".py",
   "mimetype": "text/x-python",
   "name": "python",
   "nbconvert_exporter": "python",
   "pygments_lexer": "ipython3",
   "version": "3.8.5"
  }
 },
 "nbformat": 4,
 "nbformat_minor": 4
}
