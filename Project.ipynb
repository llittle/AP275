{
 "cells": [
  {
   "cell_type": "markdown",
   "metadata": {},
   "source": [
    "# Course project: cleavage plane for Ca doped YBCO"
   ]
  },
  {
   "cell_type": "code",
   "execution_count": 1,
   "metadata": {},
   "outputs": [],
   "source": [
    "import matplotlib.pyplot as plt\n",
    "import numpy as np\n",
    "from pwscf import make_struc_doped, make_struc_undoped, write_inputs"
   ]
  },
  {
   "cell_type": "markdown",
   "metadata": {},
   "source": [
    "## Z Test"
   ]
  },
  {
   "cell_type": "markdown",
   "metadata": {},
   "source": [
    "Make input files (from z-1 to z-4)"
   ]
  },
  {
   "cell_type": "code",
   "execution_count": 5,
   "metadata": {},
   "outputs": [
    {
     "name": "stdout",
     "output_type": "stream",
     "text": [
      "MAKING FILE\n",
      "Writing LL_test/YBCO_conv_111_40vac_NOcleave_0sep_vc-relax.in\n",
      "MAKING FILE\n",
      "Writing LL_test/YBCO_conv_112_40vac_NOcleave_0sep_vc-relax.in\n",
      "MAKING FILE\n",
      "Writing LL_test/YBCO_conv_113_40vac_NOcleave_0sep_vc-relax.in\n",
      "MAKING FILE\n",
      "Writing LL_test/YBCO_conv_114_40vac_NOcleave_0sep_vc-relax.in\n"
     ]
    }
   ],
   "source": [
    "zs = np.arange(1,5)\n",
    "for z in zs:\n",
    "    [struc, struc_name] = make_struc_undoped(nxy = 1, nz = z, vacuum = 40)\n",
    "    infile = write_inputs(struc = struc, dirname = 'LL_test', name = struc_name, calc = 'vc-relax')"
   ]
  },
  {
   "cell_type": "markdown",
   "metadata": {},
   "source": [
    "## Separation Test"
   ]
  },
  {
   "cell_type": "code",
   "execution_count": 2,
   "metadata": {},
   "outputs": [],
   "source": [
    "separation = 10\n",
    "nz=3\n",
    "\n",
    "a=make_struc_undoped(vacuum = 20, nz = nz, separation = separation, cleave_plane = 'Y')\n",
    "a=make_struc_undoped(vacuum = 20, nz = nz, separation = separation, cleave_plane = 'BaO')\n",
    "a=make_struc_undoped(vacuum = 20, nz = nz, separation = separation, cleave_plane = 'CuO')"
   ]
  },
  {
   "cell_type": "markdown",
   "metadata": {},
   "source": [
    "## Make Doped Cell"
   ]
  },
  {
   "cell_type": "code",
   "execution_count": 2,
   "metadata": {},
   "outputs": [],
   "source": [
    "a = make_struc_doped()"
   ]
  },
  {
   "cell_type": "markdown",
   "metadata": {},
   "source": [
    "# Inital relax calculation (RUNS A CALC)"
   ]
  },
  {
   "cell_type": "code",
   "execution_count": null,
   "metadata": {},
   "outputs": [],
   "source": [
    "def relax_YBCO(nk, ecut):\n",
    "    pseudopots = {'Y': PseudoPotential(ptype='uspp', element='Y', functional='LDA', name='Y.pz-spn-rrkjus_psl.1.0.0.UPF'),\n",
    "                  'Ba': PseudoPotential(ptype='uspp', element='Ba', functional='LDA', name='Ba.pz-spn-rrkjus_psl.1.0.0.UPF'),\n",
    "                  'Cu': PseudoPotential(ptype='uspp', element='Cu', functional='LDA', name='Cu.pz-d-rrkjus.UPF'),\n",
    "                  'O': PseudoPotential(ptype='uspp', element='O', functional='LDA', name='O.pz-rrkjus.UPF')}\n",
    "    struc = make_struc_non_doped()\n",
    "    kpts = Kpoints(gridsize=[nk, nk, nk], option='automatic', offset=True)\n",
    "    dirname = 'YBCO_relax_ecut_{}_nk_{}'.format(ecut, nk)\n",
    "    runpath = Dir(path=os.path.join(os.environ['WORKDIR'], \"Project\", dirname))\n",
    "    input_params = PWscf_inparam({\n",
    "        'CONTROL': {\n",
    "            'calculation': 'relax',\n",
    "            'pseudo_dir': os.environ['QE_POTENTIALS'],\n",
    "            'outdir': runpath.path,\n",
    "            'tstress': True,\n",
    "            'tprnfor': True,\n",
    "            'disk_io': 'none'\n",
    "        },\n",
    "        'SYSTEM': {\n",
    "            'ecutwfc': ecut,\n",
    "            'ecutrho': ecut * 12,\n",
    "            'occupations': 'smearing',\n",
    "            'smearing': 'mp',\n",
    "            'degauss': 0.02\n",
    "             },\n",
    "        'ELECTRONS': {\n",
    "            'diagonalization': 'david',\n",
    "            'mixing_beta': 0.7,\n",
    "            'conv_thr': 1e-7,\n",
    "        },\n",
    "        'IONS': {\n",
    "            'ion_dynamics': 'bfgs'\n",
    "        },\n",
    "        'CELL': {},\n",
    "        })\n",
    "\n",
    "    output_file = run_qe_pwscf(runpath=runpath, struc=struc,  pseudopots=pseudopots,\n",
    "                               params=input_params, kpoints=kpts, ncpu=16)\n",
    "    output = parse_qe_pwscf_output(outfile=output_file)\n",
    "    return output\n",
    "\n",
    "def kpts_scan():\n",
    "    ecut = 30\n",
    "    nk = np.arange(1, 2)\n",
    "    energy=[]\n",
    "    for i in nk:\n",
    "        output = relax_YBCO(ecut=ecut, nk=i)\n",
    "        energy.append(output['energy'])\n",
    "        print(i)\n",
    "    return energy"
   ]
  }
 ],
 "metadata": {
  "kernelspec": {
   "display_name": "Python 3",
   "language": "python",
   "name": "python3"
  },
  "language_info": {
   "codemirror_mode": {
    "name": "ipython",
    "version": 3
   },
   "file_extension": ".py",
   "mimetype": "text/x-python",
   "name": "python",
   "nbconvert_exporter": "python",
   "pygments_lexer": "ipython3",
   "version": "3.8.5"
  }
 },
 "nbformat": 4,
 "nbformat_minor": 4
}
